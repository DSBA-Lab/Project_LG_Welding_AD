{
 "cells": [
  {
   "cell_type": "code",
   "execution_count": 1,
   "id": "162a4166",
   "metadata": {
    "ExecuteTime": {
     "end_time": "2023-04-24T12:43:16.065105Z",
     "start_time": "2023-04-24T12:43:15.404999Z"
    }
   },
   "outputs": [],
   "source": [
    "import numpy as np\n",
    "import pandas as pd\n",
    "from matplotlib import pyplot as plt\n",
    "from tqdm.notebook import trange\n",
    "from tqdm import tqdm\n",
    "from einops import rearrange, repeat\n",
    "from pathlib import Path\n",
    "import seaborn as sns\n",
    "import datetime\n",
    "import math\n",
    "import os\n",
    "import time\n",
    "import sys\n",
    "import re\n",
    "\n",
    "%matplotlib inline"
   ]
  },
  {
   "cell_type": "code",
   "execution_count": 2,
   "id": "f3f3a504",
   "metadata": {
    "ExecuteTime": {
     "end_time": "2023-04-24T12:43:38.173343Z",
     "start_time": "2023-04-24T12:43:38.161850Z"
    }
   },
   "outputs": [
    {
     "data": {
      "text/plain": [
       "[PosixPath('../data/230412_Anode/20230412_105553_0__01_Total.csv'),\n",
       " PosixPath('../data/230412_Anode/20230412_105804_0__02_Total.csv'),\n",
       " PosixPath('../data/230412_Anode/20230412_110032_0__03_Total.csv'),\n",
       " PosixPath('../data/230412_Anode/20230412_110249_0__04_Total.csv'),\n",
       " PosixPath('../data/230412_Anode/20230412_110451_0__05_Total.csv'),\n",
       " PosixPath('../data/230412_Anode/20230412_110735_0__06_Total.csv'),\n",
       " PosixPath('../data/230412_Anode/20230412_110928_0__07_Total.csv'),\n",
       " PosixPath('../data/230412_Anode/20230412_111152_0__08_Total.csv'),\n",
       " PosixPath('../data/230412_Anode/20230412_111719_0__09_Total.csv'),\n",
       " PosixPath('../data/230412_Anode/20230412_111935_0__10_Total.csv'),\n",
       " PosixPath('../data/230412_Anode/20230412_112153_0__11_Total.csv'),\n",
       " PosixPath('../data/230412_Anode/20230412_112415_0__12_Total.csv'),\n",
       " PosixPath('../data/230412_Anode/20230412_112642_0__13_Total.csv'),\n",
       " PosixPath('../data/230412_Anode/20230412_112855_0__14_Total.csv'),\n",
       " PosixPath('../data/230412_Anode/20230412_113056_0__15_Total.csv'),\n",
       " PosixPath('../data/230412_Anode/20230412_113352_0__16_Total.csv'),\n",
       " PosixPath('../data/230412_Anode/20230412_113638_0__17_Total.csv'),\n",
       " PosixPath('../data/230412_Anode/20230412_113926_0__18_Total.csv'),\n",
       " PosixPath('../data/230412_Anode/20230412_114152_0__19_Total.csv'),\n",
       " PosixPath('../data/230412_Anode/20230412_114341_0__20_Total.csv'),\n",
       " PosixPath('../data/230412_Anode/20230412_114631_0__21_Total.csv'),\n",
       " PosixPath('../data/230412_Anode/20230412_115221_0__24_Total.csv'),\n",
       " PosixPath('../data/230412_Anode/20230412_115628_0__25_Total.csv'),\n",
       " PosixPath('../data/230412_Anode/20230412_115807_0__26_Total.csv')]"
      ]
     },
     "execution_count": 2,
     "metadata": {},
     "output_type": "execute_result"
    }
   ],
   "source": [
    "Anode_datasets = sorted([x for x in Path(\"../data/230412_Anode/\").glob(\"*.csv\")])\n",
    "Anode_datasets"
   ]
  },
  {
   "cell_type": "code",
   "execution_count": 3,
   "id": "23938b4c",
   "metadata": {
    "ExecuteTime": {
     "end_time": "2023-04-24T12:43:44.181137Z",
     "start_time": "2023-04-24T12:43:44.171944Z"
    }
   },
   "outputs": [
    {
     "data": {
      "text/plain": [
       "[PosixPath('../data/230330_Cathode/20230330_134146_0__02_Total.csv'),\n",
       " PosixPath('../data/230330_Cathode/20230330_134728_0__03_Total.csv'),\n",
       " PosixPath('../data/230330_Cathode/20230330_134935_0__04_Total.csv'),\n",
       " PosixPath('../data/230330_Cathode/20230330_135219_0__05_Total.csv'),\n",
       " PosixPath('../data/230330_Cathode/20230330_135426_0__06_Total.csv'),\n",
       " PosixPath('../data/230330_Cathode/20230330_140214_0__07_Total.csv'),\n",
       " PosixPath('../data/230330_Cathode/20230330_140723_0__08_Total.csv'),\n",
       " PosixPath('../data/230330_Cathode/20230330_140937_0__09_Total.csv'),\n",
       " PosixPath('../data/230330_Cathode/20230330_141214_0__10_Total.csv'),\n",
       " PosixPath('../data/230330_Cathode/20230330_141439_0__11_Total.csv'),\n",
       " PosixPath('../data/230330_Cathode/20230330_141754_0__12_Total.csv'),\n",
       " PosixPath('../data/230330_Cathode/20230330_142019_0__13_Total.csv'),\n",
       " PosixPath('../data/230330_Cathode/20230330_142247_0__14_Total.csv'),\n",
       " PosixPath('../data/230330_Cathode/20230330_142451_0__15_Total.csv'),\n",
       " PosixPath('../data/230330_Cathode/20230330_142807_0__16_Total.csv'),\n",
       " PosixPath('../data/230330_Cathode/20230330_143152_0__17_Total.csv'),\n",
       " PosixPath('../data/230330_Cathode/20230330_143341_0__18_Total.csv'),\n",
       " PosixPath('../data/230330_Cathode/20230330_143541_0__19_Total.csv'),\n",
       " PosixPath('../data/230330_Cathode/20230330_143831_0__20_Total.csv'),\n",
       " PosixPath('../data/230330_Cathode/20230330_144417_0__21_Total.csv')]"
      ]
     },
     "execution_count": 3,
     "metadata": {},
     "output_type": "execute_result"
    }
   ],
   "source": [
    "Cathode_datasets = sorted([x for x in Path(\"../data/230330_Cathode/\").glob(\"*.csv\")])\n",
    "Cathode_datasets"
   ]
  },
  {
   "cell_type": "markdown",
   "id": "02b5b93c",
   "metadata": {},
   "source": [
    "## Functions"
   ]
  },
  {
   "cell_type": "code",
   "execution_count": 99,
   "id": "757b4e18",
   "metadata": {
    "ExecuteTime": {
     "end_time": "2023-04-24T14:48:25.248605Z",
     "start_time": "2023-04-24T14:48:25.233972Z"
    }
   },
   "outputs": [],
   "source": [
    "def detect_bead(signal, degree=0.3, verbose=True):\n",
    "    bead_index = []\n",
    "    max_value = max(signal)\n",
    "    start = None\n",
    "    end = None\n",
    "    for i in range(1, len(signal)):\n",
    "        if signal[i] - signal[i-1] >= max_value * degree:\n",
    "            if start is None:\n",
    "                start, end = i-1, i-1\n",
    "            else:\n",
    "                print(f'error index: {i}')\n",
    "        elif signal[i-1] - signal[i] >= max_value * degree:\n",
    "            if end is not None:\n",
    "                bead_index.append(np.array([start, i]))\n",
    "                if verbose:\n",
    "                    print(f\"Value at index start: {start}, end: {i}, length: {i - start}\")\n",
    "                start, end = None, None\n",
    "            else:\n",
    "                print(f'error index: {i}')\n",
    "    print(f'Detected bead num: {len(bead_index)}')\n",
    "    return np.array(bead_index)"
   ]
  },
  {
   "cell_type": "code",
   "execution_count": 157,
   "id": "52a14f79",
   "metadata": {
    "ExecuteTime": {
     "end_time": "2023-04-24T15:28:36.525082Z",
     "start_time": "2023-04-24T15:28:36.503940Z"
    }
   },
   "outputs": [],
   "source": [
    "def LO_features(bead_sequence):\n",
    "    mean_values = np.mean(bead_sequence)\n",
    "    valid_values = bead_sequence[np.where(bead_sequence >= (mean_values*0.9))]\n",
    "    height_mean = np.mean(valid_values)\n",
    "    height_min = np.min(valid_values)\n",
    "    height_max = np.max(valid_values)\n",
    "    height_std = np.std(valid_values)\n",
    "    FWHM = len(bead_sequence)\n",
    "    area = np.sum(bead_sequence)\n",
    "    \n",
    "    return np.array([height_mean, height_min, height_max, height_std, FWHM, area])\n",
    "\n",
    "def BR_features(bead_sequence):\n",
    "    peak = np.max(bead_sequence)\n",
    "    peak_time = np.where(bead_sequence == peak)[0][0]\n",
    "    diff_peak = peak - bead_sequence[-1]\n",
    "    return np.array([peak, peak_time, diff_peak])\n",
    "\n",
    "def NIR_feautures(NIR, bead_len):\n",
    "    peak = np.max(NIR)\n",
    "    nir_time = np.where(NIR >= (peak*0.5))[0][0]\n",
    "    over_area = np.sum(NIR[np.where(NIR>=1)])\n",
    "    extra_time = np.where(NIR >= 0.03)[0][-1] - bead_len\n",
    "    extra_area = np.sum(NIR[bead_len:np.where(NIR >= 0.03)[0][-1]])\n",
    "    sum_area = np.sum(NIR[nir_time:bead_len])\n",
    "#     extra_area = np.sum(np.where(NIR >= 0.03)[np.where(np.where(NIR >= 0.03)>bead_len)])\n",
    "    return np.array([peak, nir_time, over_area, extra_time, extra_area, sum_area])\n",
    "    \n",
    "def VIS_feaures(VIS, bead_len):\n",
    "    peak = np.max(VIS)\n",
    "    vis_time = np.where(VIS >= (peak*0.5))[0][0]\n",
    "    over_area = np.sum(VIS[np.where(VIS>=0.7)])\n",
    "    extra_time = np.where(VIS >= 0.03)[0][-1] - bead_len\n",
    "    extra_area = np.sum(VIS[bead_len:np.where(VIS >= 0.03)[0][-1]])\n",
    "    return np.array([peak, vis_time, over_area, extra_time, extra_area])\n",
    "    "
   ]
  },
  {
   "cell_type": "code",
   "execution_count": 158,
   "id": "fca70be0",
   "metadata": {
    "ExecuteTime": {
     "end_time": "2023-04-24T15:28:37.095266Z",
     "start_time": "2023-04-24T15:28:37.077843Z"
    }
   },
   "outputs": [],
   "source": [
    "def rule_based(signal):\n",
    "    LO = np.array(signal['ch0'])\n",
    "    BR = np.array(signal['ch1'])\n",
    "    NIR = np.array(signal['ch2'])\n",
    "    VIS = np.array(signal['ch3'])\n",
    "    bead_index = detect_bead(LO, verbose=False)\n",
    "    df = pd.DataFrame(columns=[\n",
    "        'LO_height_MEAN', 'LO_height_MIN', 'LO_height_Peak', 'LO_height_STD',\n",
    "        'LO_FWHM', 'LO_AREA', 'BR_Peak', 'BR_Peak_Time', 'BR_diff_peak', 'NIR_Peak',\n",
    "        'NIR_Time', 'NIR_Over_AREA', 'NIR_extra_time', 'NIR_extra_area', 'NIR_sum_area',\n",
    "        'VIS_Peak', 'VIS_Time', 'VIS_Over_AREA', 'VIS_extra_time', 'VIS_extra_area'\n",
    "        ])\n",
    "        \n",
    "    for i, [start, end] in enumerate(bead_index):\n",
    "        features = np.array([])\n",
    "        bead_len = end - start\n",
    "        if i+1 == len(bead_index):\n",
    "            next_start = end + 100\n",
    "        else:\n",
    "            next_start = bead_index[i+1][0]\n",
    "        \n",
    "        features = np.concatenate((features, LO_features(LO[start:end])), axis = None)\n",
    "        features = np.concatenate((features, BR_features(BR[start:end])), axis = None)\n",
    "        features = np.concatenate((features, NIR_feautures(NIR[start:next_start], bead_len)), axis = None)\n",
    "        features = np.concatenate((features, VIS_feaures(VIS[start:next_start], bead_len)), axis = None)\n",
    "#         df.iloc[-1] = features\n",
    "        df = df.append(pd.Series(features, index=df.columns), ignore_index=True)\n",
    "    return df\n"
   ]
  },
  {
   "cell_type": "markdown",
   "id": "cf58732d",
   "metadata": {},
   "source": [
    "## Anode"
   ]
  },
  {
   "cell_type": "code",
   "execution_count": 5,
   "id": "f20396a5",
   "metadata": {
    "ExecuteTime": {
     "end_time": "2023-04-24T12:44:33.557898Z",
     "start_time": "2023-04-24T12:44:33.440218Z"
    }
   },
   "outputs": [
    {
     "data": {
      "text/html": [
       "<div>\n",
       "<style scoped>\n",
       "    .dataframe tbody tr th:only-of-type {\n",
       "        vertical-align: middle;\n",
       "    }\n",
       "\n",
       "    .dataframe tbody tr th {\n",
       "        vertical-align: top;\n",
       "    }\n",
       "\n",
       "    .dataframe thead th {\n",
       "        text-align: right;\n",
       "    }\n",
       "</style>\n",
       "<table border=\"1\" class=\"dataframe\">\n",
       "  <thead>\n",
       "    <tr style=\"text-align: right;\">\n",
       "      <th></th>\n",
       "      <th>ch0</th>\n",
       "      <th>ch1</th>\n",
       "      <th>ch2</th>\n",
       "      <th>ch3</th>\n",
       "    </tr>\n",
       "  </thead>\n",
       "  <tbody>\n",
       "    <tr>\n",
       "      <th>0</th>\n",
       "      <td>-0.037602</td>\n",
       "      <td>-0.046263</td>\n",
       "      <td>-0.001663</td>\n",
       "      <td>-0.000759</td>\n",
       "    </tr>\n",
       "    <tr>\n",
       "      <th>1</th>\n",
       "      <td>-0.004319</td>\n",
       "      <td>-0.008454</td>\n",
       "      <td>-0.001663</td>\n",
       "      <td>-0.000759</td>\n",
       "    </tr>\n",
       "    <tr>\n",
       "      <th>2</th>\n",
       "      <td>0.005698</td>\n",
       "      <td>0.004149</td>\n",
       "      <td>-0.001663</td>\n",
       "      <td>-0.000435</td>\n",
       "    </tr>\n",
       "    <tr>\n",
       "      <th>3</th>\n",
       "      <td>0.009899</td>\n",
       "      <td>0.010935</td>\n",
       "      <td>-0.001663</td>\n",
       "      <td>-0.000759</td>\n",
       "    </tr>\n",
       "    <tr>\n",
       "      <th>4</th>\n",
       "      <td>0.028640</td>\n",
       "      <td>0.031940</td>\n",
       "      <td>-0.001663</td>\n",
       "      <td>-0.000759</td>\n",
       "    </tr>\n",
       "    <tr>\n",
       "      <th>...</th>\n",
       "      <td>...</td>\n",
       "      <td>...</td>\n",
       "      <td>...</td>\n",
       "      <td>...</td>\n",
       "    </tr>\n",
       "    <tr>\n",
       "      <th>149995</th>\n",
       "      <td>-0.035017</td>\n",
       "      <td>-0.045293</td>\n",
       "      <td>-0.001987</td>\n",
       "      <td>-0.000435</td>\n",
       "    </tr>\n",
       "    <tr>\n",
       "      <th>149996</th>\n",
       "      <td>0.005052</td>\n",
       "      <td>0.007380</td>\n",
       "      <td>-0.001339</td>\n",
       "      <td>-0.000435</td>\n",
       "    </tr>\n",
       "    <tr>\n",
       "      <th>149997</th>\n",
       "      <td>0.026378</td>\n",
       "      <td>0.025800</td>\n",
       "      <td>-0.000692</td>\n",
       "      <td>-0.000759</td>\n",
       "    </tr>\n",
       "    <tr>\n",
       "      <th>149998</th>\n",
       "      <td>0.050613</td>\n",
       "      <td>0.046158</td>\n",
       "      <td>-0.001339</td>\n",
       "      <td>-0.000435</td>\n",
       "    </tr>\n",
       "    <tr>\n",
       "      <th>149999</th>\n",
       "      <td>0.001174</td>\n",
       "      <td>0.003826</td>\n",
       "      <td>-0.001663</td>\n",
       "      <td>-0.000435</td>\n",
       "    </tr>\n",
       "  </tbody>\n",
       "</table>\n",
       "<p>150000 rows × 4 columns</p>\n",
       "</div>"
      ],
      "text/plain": [
       "             ch0       ch1       ch2       ch3\n",
       "0      -0.037602 -0.046263 -0.001663 -0.000759\n",
       "1      -0.004319 -0.008454 -0.001663 -0.000759\n",
       "2       0.005698  0.004149 -0.001663 -0.000435\n",
       "3       0.009899  0.010935 -0.001663 -0.000759\n",
       "4       0.028640  0.031940 -0.001663 -0.000759\n",
       "...          ...       ...       ...       ...\n",
       "149995 -0.035017 -0.045293 -0.001987 -0.000435\n",
       "149996  0.005052  0.007380 -0.001339 -0.000435\n",
       "149997  0.026378  0.025800 -0.000692 -0.000759\n",
       "149998  0.050613  0.046158 -0.001339 -0.000435\n",
       "149999  0.001174  0.003826 -0.001663 -0.000435\n",
       "\n",
       "[150000 rows x 4 columns]"
      ]
     },
     "execution_count": 5,
     "metadata": {},
     "output_type": "execute_result"
    }
   ],
   "source": [
    "ref_data = pd.read_csv(Anode_datasets[2], header=None).dropna(axis=1)\n",
    "ref_data.columns = ['ch0', 'ch1', 'ch2', 'ch3']\n",
    "ref_data"
   ]
  },
  {
   "cell_type": "code",
   "execution_count": 97,
   "id": "ca7d6762",
   "metadata": {
    "ExecuteTime": {
     "end_time": "2023-04-24T14:47:20.489952Z",
     "start_time": "2023-04-24T14:47:20.404448Z"
    }
   },
   "outputs": [
    {
     "data": {
      "text/html": [
       "<div>\n",
       "<style scoped>\n",
       "    .dataframe tbody tr th:only-of-type {\n",
       "        vertical-align: middle;\n",
       "    }\n",
       "\n",
       "    .dataframe tbody tr th {\n",
       "        vertical-align: top;\n",
       "    }\n",
       "\n",
       "    .dataframe thead th {\n",
       "        text-align: right;\n",
       "    }\n",
       "</style>\n",
       "<table border=\"1\" class=\"dataframe\">\n",
       "  <thead>\n",
       "    <tr style=\"text-align: right;\">\n",
       "      <th></th>\n",
       "      <th>ch0</th>\n",
       "      <th>ch1</th>\n",
       "      <th>ch2</th>\n",
       "      <th>ch3</th>\n",
       "    </tr>\n",
       "  </thead>\n",
       "  <tbody>\n",
       "    <tr>\n",
       "      <th>0</th>\n",
       "      <td>0.010222</td>\n",
       "      <td>0.008673</td>\n",
       "      <td>-0.001663</td>\n",
       "      <td>-0.000435</td>\n",
       "    </tr>\n",
       "    <tr>\n",
       "      <th>1</th>\n",
       "      <td>0.009899</td>\n",
       "      <td>0.008673</td>\n",
       "      <td>-0.001987</td>\n",
       "      <td>-0.000759</td>\n",
       "    </tr>\n",
       "    <tr>\n",
       "      <th>2</th>\n",
       "      <td>0.014422</td>\n",
       "      <td>0.011581</td>\n",
       "      <td>-0.001339</td>\n",
       "      <td>-0.000435</td>\n",
       "    </tr>\n",
       "    <tr>\n",
       "      <th>3</th>\n",
       "      <td>0.009899</td>\n",
       "      <td>0.006734</td>\n",
       "      <td>-0.001663</td>\n",
       "      <td>-0.000435</td>\n",
       "    </tr>\n",
       "    <tr>\n",
       "      <th>4</th>\n",
       "      <td>0.014422</td>\n",
       "      <td>0.008350</td>\n",
       "      <td>-0.001663</td>\n",
       "      <td>-0.000435</td>\n",
       "    </tr>\n",
       "    <tr>\n",
       "      <th>...</th>\n",
       "      <td>...</td>\n",
       "      <td>...</td>\n",
       "      <td>...</td>\n",
       "      <td>...</td>\n",
       "    </tr>\n",
       "    <tr>\n",
       "      <th>152495</th>\n",
       "      <td>0.014422</td>\n",
       "      <td>0.012551</td>\n",
       "      <td>-0.001339</td>\n",
       "      <td>-0.000759</td>\n",
       "    </tr>\n",
       "    <tr>\n",
       "      <th>152496</th>\n",
       "      <td>0.018300</td>\n",
       "      <td>0.017398</td>\n",
       "      <td>-0.001663</td>\n",
       "      <td>-0.000435</td>\n",
       "    </tr>\n",
       "    <tr>\n",
       "      <th>152497</th>\n",
       "      <td>0.037042</td>\n",
       "      <td>0.039695</td>\n",
       "      <td>-0.001339</td>\n",
       "      <td>-0.000759</td>\n",
       "    </tr>\n",
       "    <tr>\n",
       "      <th>152498</th>\n",
       "      <td>0.009252</td>\n",
       "      <td>0.006411</td>\n",
       "      <td>-0.001663</td>\n",
       "      <td>-0.000435</td>\n",
       "    </tr>\n",
       "    <tr>\n",
       "      <th>152499</th>\n",
       "      <td>0.014746</td>\n",
       "      <td>0.017075</td>\n",
       "      <td>-0.001339</td>\n",
       "      <td>-0.000759</td>\n",
       "    </tr>\n",
       "  </tbody>\n",
       "</table>\n",
       "<p>152500 rows × 4 columns</p>\n",
       "</div>"
      ],
      "text/plain": [
       "             ch0       ch1       ch2       ch3\n",
       "0       0.010222  0.008673 -0.001663 -0.000435\n",
       "1       0.009899  0.008673 -0.001987 -0.000759\n",
       "2       0.014422  0.011581 -0.001339 -0.000435\n",
       "3       0.009899  0.006734 -0.001663 -0.000435\n",
       "4       0.014422  0.008350 -0.001663 -0.000435\n",
       "...          ...       ...       ...       ...\n",
       "152495  0.014422  0.012551 -0.001339 -0.000759\n",
       "152496  0.018300  0.017398 -0.001663 -0.000435\n",
       "152497  0.037042  0.039695 -0.001339 -0.000759\n",
       "152498  0.009252  0.006411 -0.001663 -0.000435\n",
       "152499  0.014746  0.017075 -0.001339 -0.000759\n",
       "\n",
       "[152500 rows x 4 columns]"
      ]
     },
     "execution_count": 97,
     "metadata": {},
     "output_type": "execute_result"
    }
   ],
   "source": [
    "test_data = pd.read_csv(Anode_datasets[7], header=None).dropna(axis=1)\n",
    "test_data.columns = ['ch0', 'ch1', 'ch2', 'ch3']\n",
    "test_data"
   ]
  },
  {
   "cell_type": "code",
   "execution_count": 159,
   "id": "d96d25f8",
   "metadata": {
    "ExecuteTime": {
     "end_time": "2023-04-24T15:28:40.080058Z",
     "start_time": "2023-04-24T15:28:39.846724Z"
    }
   },
   "outputs": [
    {
     "name": "stdout",
     "output_type": "stream",
     "text": [
      "Detected bead num: 54\n"
     ]
    },
    {
     "data": {
      "text/plain": [
       "LO_height_MEAN      3.281964\n",
       "LO_height_MIN       3.054144\n",
       "LO_height_Peak      3.346257\n",
       "LO_height_STD       0.035058\n",
       "LO_FWHM           100.000000\n",
       "LO_AREA           323.012597\n",
       "BR_Peak             7.969796\n",
       "BR_Peak_Time       21.000000\n",
       "BR_diff_peak        6.594522\n",
       "NIR_Peak            0.359710\n",
       "NIR_Time           46.000000\n",
       "NIR_Over_AREA       0.000000\n",
       "NIR_extra_time      6.000000\n",
       "NIR_extra_area      0.475089\n",
       "NIR_sum_area       12.447495\n",
       "VIS_Peak            0.205081\n",
       "VIS_Time           42.000000\n",
       "VIS_Over_AREA       0.000000\n",
       "VIS_extra_time      4.000000\n",
       "VIS_extra_area      0.498295\n",
       "Name: 24, dtype: float64"
      ]
     },
     "execution_count": 159,
     "metadata": {},
     "output_type": "execute_result"
    }
   ],
   "source": [
    "rule_based(ref_data).iloc[24]"
   ]
  },
  {
   "cell_type": "code",
   "execution_count": 163,
   "id": "2e2df274",
   "metadata": {
    "ExecuteTime": {
     "end_time": "2023-04-24T15:29:54.331023Z",
     "start_time": "2023-04-24T15:29:53.917814Z"
    }
   },
   "outputs": [
    {
     "name": "stdout",
     "output_type": "stream",
     "text": [
      "Detected bead num: 54\n",
      "error index: 43546\n",
      "Detected bead num: 54\n"
     ]
    },
    {
     "data": {
      "text/html": [
       "<div>\n",
       "<style scoped>\n",
       "    .dataframe tbody tr th:only-of-type {\n",
       "        vertical-align: middle;\n",
       "    }\n",
       "\n",
       "    .dataframe tbody tr th {\n",
       "        vertical-align: top;\n",
       "    }\n",
       "\n",
       "    .dataframe thead th {\n",
       "        text-align: right;\n",
       "    }\n",
       "</style>\n",
       "<table border=\"1\" class=\"dataframe\">\n",
       "  <thead>\n",
       "    <tr style=\"text-align: right;\">\n",
       "      <th></th>\n",
       "      <th>24</th>\n",
       "      <th>24</th>\n",
       "    </tr>\n",
       "  </thead>\n",
       "  <tbody>\n",
       "    <tr>\n",
       "      <th>LO_height_MEAN</th>\n",
       "      <td>3.281964</td>\n",
       "      <td>3.279973</td>\n",
       "    </tr>\n",
       "    <tr>\n",
       "      <th>LO_height_MIN</th>\n",
       "      <td>3.054144</td>\n",
       "      <td>2.989517</td>\n",
       "    </tr>\n",
       "    <tr>\n",
       "      <th>LO_height_Peak</th>\n",
       "      <td>3.346257</td>\n",
       "      <td>3.347873</td>\n",
       "    </tr>\n",
       "    <tr>\n",
       "      <th>LO_height_STD</th>\n",
       "      <td>0.035058</td>\n",
       "      <td>0.036923</td>\n",
       "    </tr>\n",
       "    <tr>\n",
       "      <th>LO_FWHM</th>\n",
       "      <td>100.000000</td>\n",
       "      <td>120.000000</td>\n",
       "    </tr>\n",
       "    <tr>\n",
       "      <th>LO_AREA</th>\n",
       "      <td>323.012597</td>\n",
       "      <td>387.863219</td>\n",
       "    </tr>\n",
       "    <tr>\n",
       "      <th>BR_Peak</th>\n",
       "      <td>7.969796</td>\n",
       "      <td>7.861218</td>\n",
       "    </tr>\n",
       "    <tr>\n",
       "      <th>BR_Peak_Time</th>\n",
       "      <td>21.000000</td>\n",
       "      <td>22.000000</td>\n",
       "    </tr>\n",
       "    <tr>\n",
       "      <th>BR_diff_peak</th>\n",
       "      <td>6.594522</td>\n",
       "      <td>6.624898</td>\n",
       "    </tr>\n",
       "    <tr>\n",
       "      <th>NIR_Peak</th>\n",
       "      <td>0.359710</td>\n",
       "      <td>0.813369</td>\n",
       "    </tr>\n",
       "    <tr>\n",
       "      <th>NIR_Time</th>\n",
       "      <td>46.000000</td>\n",
       "      <td>8.000000</td>\n",
       "    </tr>\n",
       "    <tr>\n",
       "      <th>NIR_Over_AREA</th>\n",
       "      <td>0.000000</td>\n",
       "      <td>0.000000</td>\n",
       "    </tr>\n",
       "    <tr>\n",
       "      <th>NIR_extra_time</th>\n",
       "      <td>6.000000</td>\n",
       "      <td>518.000000</td>\n",
       "    </tr>\n",
       "    <tr>\n",
       "      <th>NIR_extra_area</th>\n",
       "      <td>0.475089</td>\n",
       "      <td>170.724576</td>\n",
       "    </tr>\n",
       "    <tr>\n",
       "      <th>NIR_sum_area</th>\n",
       "      <td>12.447495</td>\n",
       "      <td>60.008563</td>\n",
       "    </tr>\n",
       "    <tr>\n",
       "      <th>VIS_Peak</th>\n",
       "      <td>0.205081</td>\n",
       "      <td>0.237122</td>\n",
       "    </tr>\n",
       "    <tr>\n",
       "      <th>VIS_Time</th>\n",
       "      <td>42.000000</td>\n",
       "      <td>47.000000</td>\n",
       "    </tr>\n",
       "    <tr>\n",
       "      <th>VIS_Over_AREA</th>\n",
       "      <td>0.000000</td>\n",
       "      <td>0.000000</td>\n",
       "    </tr>\n",
       "    <tr>\n",
       "      <th>VIS_extra_time</th>\n",
       "      <td>4.000000</td>\n",
       "      <td>4.000000</td>\n",
       "    </tr>\n",
       "    <tr>\n",
       "      <th>VIS_extra_area</th>\n",
       "      <td>0.498295</td>\n",
       "      <td>0.504121</td>\n",
       "    </tr>\n",
       "  </tbody>\n",
       "</table>\n",
       "</div>"
      ],
      "text/plain": [
       "                        24          24\n",
       "LO_height_MEAN    3.281964    3.279973\n",
       "LO_height_MIN     3.054144    2.989517\n",
       "LO_height_Peak    3.346257    3.347873\n",
       "LO_height_STD     0.035058    0.036923\n",
       "LO_FWHM         100.000000  120.000000\n",
       "LO_AREA         323.012597  387.863219\n",
       "BR_Peak           7.969796    7.861218\n",
       "BR_Peak_Time     21.000000   22.000000\n",
       "BR_diff_peak      6.594522    6.624898\n",
       "NIR_Peak          0.359710    0.813369\n",
       "NIR_Time         46.000000    8.000000\n",
       "NIR_Over_AREA     0.000000    0.000000\n",
       "NIR_extra_time    6.000000  518.000000\n",
       "NIR_extra_area    0.475089  170.724576\n",
       "NIR_sum_area     12.447495   60.008563\n",
       "VIS_Peak          0.205081    0.237122\n",
       "VIS_Time         42.000000   47.000000\n",
       "VIS_Over_AREA     0.000000    0.000000\n",
       "VIS_extra_time    4.000000    4.000000\n",
       "VIS_extra_area    0.498295    0.504121"
      ]
     },
     "execution_count": 163,
     "metadata": {},
     "output_type": "execute_result"
    }
   ],
   "source": [
    "pd.concat([rule_based(ref_data).iloc[24], rule_based(test_data).iloc[24]], axis=1)"
   ]
  },
  {
   "cell_type": "code",
   "execution_count": 134,
   "id": "25730600",
   "metadata": {
    "ExecuteTime": {
     "end_time": "2023-04-24T15:19:09.729984Z",
     "start_time": "2023-04-24T15:19:09.511424Z"
    }
   },
   "outputs": [
    {
     "name": "stdout",
     "output_type": "stream",
     "text": [
      "error index: 43546\n",
      "Detected bead num: 54\n"
     ]
    },
    {
     "data": {
      "text/plain": [
       "LO_height_MEAN      3.279973\n",
       "LO_height_MIN       2.989517\n",
       "LO_height_Peak      3.347873\n",
       "LO_height_STD       0.036923\n",
       "LO_FWHM           120.000000\n",
       "LO_AREA           387.863219\n",
       "BR_Peak             7.861218\n",
       "BR_Peak_Time       22.000000\n",
       "NIR_Peak            6.624898\n",
       "NIR_Time            0.813369\n",
       "NIR_Over_AREA       8.000000\n",
       "NIR_extra_time      0.000000\n",
       "NIR_extra_area    518.000000\n",
       "NIR_sum_area      170.724576\n",
       "VIS_Peak           60.008563\n",
       "VIS_Time            0.237122\n",
       "VIS_Over_AREA      47.000000\n",
       "VIS_extra_time      0.000000\n",
       "VIS_extra_area      4.000000\n",
       "VIS_sum_area        0.504121\n",
       "Name: 24, dtype: float64"
      ]
     },
     "execution_count": 134,
     "metadata": {},
     "output_type": "execute_result"
    }
   ],
   "source": [
    "rule_based(test_data).iloc[24]"
   ]
  },
  {
   "cell_type": "code",
   "execution_count": null,
   "id": "e79c1650",
   "metadata": {},
   "outputs": [],
   "source": []
  }
 ],
 "metadata": {
  "hide_input": false,
  "kernelspec": {
   "display_name": "Python 3",
   "language": "python",
   "name": "python3"
  },
  "language_info": {
   "codemirror_mode": {
    "name": "ipython",
    "version": 3
   },
   "file_extension": ".py",
   "mimetype": "text/x-python",
   "name": "python",
   "nbconvert_exporter": "python",
   "pygments_lexer": "ipython3",
   "version": "3.6.9"
  },
  "latex_envs": {
   "LaTeX_envs_menu_present": true,
   "autoclose": false,
   "autocomplete": true,
   "bibliofile": "biblio.bib",
   "cite_by": "apalike",
   "current_citInitial": 1,
   "eqLabelWithNumbers": true,
   "eqNumInitial": 1,
   "hotkeys": {
    "equation": "Ctrl-E",
    "itemize": "Ctrl-I"
   },
   "labels_anchors": false,
   "latex_user_defs": false,
   "report_style_numbering": false,
   "user_envs_cfg": false
  },
  "nbTranslate": {
   "displayLangs": [
    "ko",
    "en"
   ],
   "hotkey": "alt-t",
   "langInMainMenu": true,
   "sourceLang": "en",
   "targetLang": "ko",
   "useGoogleTranslate": true
  },
  "toc": {
   "base_numbering": 1,
   "nav_menu": {},
   "number_sections": true,
   "sideBar": true,
   "skip_h1_title": false,
   "title_cell": "Table of Contents",
   "title_sidebar": "Contents",
   "toc_cell": false,
   "toc_position": {},
   "toc_section_display": true,
   "toc_window_display": false
  },
  "varInspector": {
   "cols": {
    "lenName": 16,
    "lenType": 16,
    "lenVar": 40
   },
   "kernels_config": {
    "python": {
     "delete_cmd_postfix": "",
     "delete_cmd_prefix": "del ",
     "library": "var_list.py",
     "varRefreshCmd": "print(var_dic_list())"
    },
    "r": {
     "delete_cmd_postfix": ") ",
     "delete_cmd_prefix": "rm(",
     "library": "var_list.r",
     "varRefreshCmd": "cat(var_dic_list()) "
    }
   },
   "types_to_exclude": [
    "module",
    "function",
    "builtin_function_or_method",
    "instance",
    "_Feature"
   ],
   "window_display": false
  }
 },
 "nbformat": 4,
 "nbformat_minor": 5
}
