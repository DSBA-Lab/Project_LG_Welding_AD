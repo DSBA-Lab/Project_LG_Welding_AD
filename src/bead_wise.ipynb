{
 "cells": [
  {
   "cell_type": "code",
   "execution_count": 1,
   "metadata": {},
   "outputs": [
    {
     "name": "stderr",
     "output_type": "stream",
     "text": [
      "/usr/local/lib/python3.8/dist-packages/tqdm/auto.py:22: TqdmWarning: IProgress not found. Please update jupyter and ipywidgets. See https://ipywidgets.readthedocs.io/en/stable/user_install.html\n",
      "  from .autonotebook import tqdm as notebook_tqdm\n"
     ]
    }
   ],
   "source": [
    "from pathlib import Path\n",
    "import pandas as pd\n",
    "import sys\n",
    "import numpy as np\n",
    "import torch\n",
    "import random\n",
    "import os\n",
    "\n",
    "import warnings\n",
    "warnings.filterwarnings(\"ignore\")\n",
    "\n",
    "%matplotlib inline"
   ]
  },
  {
   "cell_type": "code",
   "execution_count": 2,
   "metadata": {},
   "outputs": [],
   "source": [
    "import matplotlib.pyplot as plt\n",
    "\n",
    "def check_graph(xs, att=None, piece=1, threshold=None):\n",
    "    \"\"\"\n",
    "    anomaly score and anomaly label visualization\n",
    "\n",
    "    Parameters\n",
    "    ----------\n",
    "    xs : np.ndarray\n",
    "        anomaly scores\n",
    "    att : np.ndarray\n",
    "        anomaly labels\n",
    "    piece : int\n",
    "        number of figures to separate\n",
    "    threshold : float(default=None)\n",
    "        anomaly threshold\n",
    "\n",
    "    Return\n",
    "    ------\n",
    "    fig : plt.figure\n",
    "    \"\"\"\n",
    "    l = xs.shape[0]\n",
    "    chunk = l // piece\n",
    "    fig, axs = plt.subplots(piece, figsize=(12, 4 * piece))\n",
    "    for i in range(piece):\n",
    "        L = i * chunk\n",
    "        R = min(L + chunk, l)\n",
    "        xticks = np.arange(L, R)\n",
    "        if piece == 1:\n",
    "            ax = axs\n",
    "        else:\n",
    "            ax = axs[i]\n",
    "        ax.plot(xticks, xs[L:R], color='#0C090A')\n",
    "        ymin, ymax = ax.get_ylim()\n",
    "        ymin = 0\n",
    "        ax.set_ylim(ymin, ymax)\n",
    "        if len(xs[L:R]) > 0 and att is not None:\n",
    "            ax.vlines(xticks[np.where(att[L:R] == 1)], ymin=ymin, ymax=ymax, color='#FED8B1',\n",
    "                          alpha=0.6, label='true anomaly')\n",
    "        ax.plot(xticks, xs[L:R], color='#0C090A', label='anomaly score')\n",
    "        if threshold is not None:\n",
    "            ax.axhline(y=threshold, color='r', linestyle='--', alpha=0.8, label=f'threshold:{threshold:.4f}')\n",
    "        ax.legend()\n",
    "\n",
    "    return fig"
   ]
  },
  {
   "cell_type": "code",
   "execution_count": null,
   "metadata": {},
   "outputs": [],
   "source": [
    "from sklearn.metrics import confusion_matrix, roc_auc_score, accuracy_score, precision_score, recall_score, f1_score, average_precision_score\n",
    "from collections import Counter\n",
    "\n",
    "def calc_point2point(predict, actual):\n",
    "    \"\"\"\n",
    "    calculate f1 score by predict and actual.\n",
    "    Args:\n",
    "        predict (np.ndarray): the predict label\n",
    "        actual (np.ndarray): np.ndarray\n",
    "    \"\"\"\n",
    "    TP = np.sum(predict * actual)\n",
    "    TN = np.sum((1 - predict) * (1 - actual))\n",
    "    FP = np.sum(predict * (1 - actual))\n",
    "    FN = np.sum((1 - predict) * actual)\n",
    "    precision = TP / (TP + FP + 0.00001)\n",
    "    recall = TP / (TP + FN + 0.00001)\n",
    "    f1 = 2 * precision * recall / (precision + recall + 0.00001)\n",
    "    return f1, precision, recall, TP, TN, FP, FN\n",
    "\n",
    "\n",
    "def adjust_predicts(score, label,\n",
    "                    threshold=None,\n",
    "                    pred=None,\n",
    "                    calc_latency=False):\n",
    "    \"\"\"\n",
    "    Calculate adjusted predict labels using given `score`, `threshold` (or given `pred`) and `label`.\n",
    "    Args:\n",
    "        score (np.ndarray): The anomaly score\n",
    "        label (np.ndarray): The ground-truth label\n",
    "        threshold (float): The threshold of anomaly score.\n",
    "            A point is labeled as \"anomaly\" if its score is lower than the threshold.\n",
    "        pred (np.ndarray or None): if not None, adjust `pred` and ignore `score` and `threshold`,\n",
    "        calc_latency (bool):\n",
    "    Returns:\n",
    "        np.ndarray: predict labels\n",
    "    \"\"\"\n",
    "    if len(score) != len(label):\n",
    "        raise ValueError(\"score and label must have the same length\")\n",
    "    score = np.asarray(score)\n",
    "    label = np.asarray(label)\n",
    "    latency = 0\n",
    "    if pred is None:\n",
    "        predict = score > threshold\n",
    "    else:\n",
    "        predict = pred\n",
    "    actual = label > 0.1\n",
    "    anomaly_state = False\n",
    "    anomaly_count = 0\n",
    "    for i in range(len(score)):\n",
    "        if actual[i] and predict[i] and not anomaly_state:\n",
    "                anomaly_state = True\n",
    "                anomaly_count += 1\n",
    "                for j in range(i, 0, -1):\n",
    "                    if not actual[j]:\n",
    "                        break\n",
    "                    else:\n",
    "                        if not predict[j]:\n",
    "                            predict[j] = True\n",
    "                            latency += 1\n",
    "        elif not actual[i]:\n",
    "            anomaly_state = False\n",
    "        if anomaly_state:\n",
    "            predict[i] = True\n",
    "    if calc_latency:\n",
    "        return predict, latency / (anomaly_count + 1e-4)\n",
    "    else:\n",
    "        return predict\n",
    "\n",
    "\n",
    "def PA_percentile(score, label,\n",
    "                  threshold=None,\n",
    "                  pred=None,\n",
    "                  K=100,\n",
    "                  calc_latency=False):\n",
    "    \"\"\"\n",
    "    Calculate adjusted predict labels using given `score`, `threshold` (or given `pred`) and `label`.\n",
    "    Args:\n",
    "        score (np.ndarray): The anomaly score\n",
    "        label (np.ndarray): The ground-truth label\n",
    "        threshold (float): The threshold of anomaly score.\n",
    "            A point is labeled as \"anomaly\" if its score is lower than the threshold.\n",
    "        pred (np.ndarray or None): if not None, adjust `pred` and ignore `score` and `threshold`,\n",
    "        calc_latency (bool):\n",
    "    Returns:\n",
    "        np.ndarray: predict labels\n",
    "    \"\"\"\n",
    "    if len(score) != len(label):\n",
    "        raise ValueError(\"score and label must have the same length\")\n",
    "    score = np.asarray(score)\n",
    "    label = np.asarray(label)\n",
    "    latency = 0\n",
    "    if pred is None:\n",
    "        predict = score > threshold\n",
    "    else:\n",
    "        predict = pred\n",
    "    actual = label > 0.1\n",
    "    anomaly_state = False\n",
    "    anomaly_count = 0\n",
    "    anomalies = []\n",
    "\n",
    "    for i in range(len(actual)):\n",
    "        if actual[i]:\n",
    "            if not anomaly_state:\n",
    "                anomaly_state = True\n",
    "                anomaly_count += 1\n",
    "                anomalies.append([i, i])\n",
    "            else:\n",
    "                anomalies[-1][-1] = i\n",
    "        else:\n",
    "            anomaly_state = False\n",
    "\n",
    "    for i, [start, end] in enumerate(anomalies):\n",
    "        collect = Counter(predict[start:end + 1])[1]\n",
    "        anomaly_count += collect\n",
    "        collect_ratio = collect / (end - start + 1)\n",
    "\n",
    "        if collect_ratio * 100 >= K and collect > 0:\n",
    "            predict[start:end + 1] = True\n",
    "            latency += (end - start + 1) - collect\n",
    "\n",
    "    if calc_latency:\n",
    "        return predict, latency / (anomaly_count + 1e-4)\n",
    "    else:\n",
    "        return predict\n",
    "\n",
    "\n",
    "def calc_seq(score, label, threshold, K=0, calc_latency=False):\n",
    "    \"\"\"\n",
    "    Calculate f1 score for a score sequence\n",
    "    \"\"\"\n",
    "    if calc_latency:\n",
    "        roc_auc = roc_auc_score(label, score)\n",
    "        auprc = average_precision_score(label, score)\n",
    "        #predict, latency = adjust_predicts(score, label, threshold, calc_latency=calc_latency)\n",
    "        predict, latency = PA_percentile(score, label, threshold, K=K, calc_latency=calc_latency)\n",
    "        t = list(calc_point2point(predict, label))\n",
    "        t.append(roc_auc)\n",
    "        t.append(auprc)\n",
    "        t.append(latency)\n",
    "        return t\n",
    "    else:\n",
    "        roc_auc = roc_auc_score(label, score)\n",
    "        auprc = average_precision_score(label, score)\n",
    "        # predict = adjust_predicts(score, label, threshold, calc_latency=calc_latency)\n",
    "        predict = PA_percentile(score, label, threshold, K=K, calc_latency=calc_latency)\n",
    "        t = list(calc_point2point(predict, label))\n",
    "        t.append(roc_auc)\n",
    "        t.append(auprc)\n",
    "        return t\n",
    "\n",
    "\n",
    "def bf_search(score, label, start, end=None, step_num=1, display_freq=1, K=0, verbose=True) -> object:\n",
    "    \"\"\"\n",
    "    Find the best-f1 score by searching best `threshold` in [`start`, `end`).\n",
    "    Returns:\n",
    "        list: list for results\n",
    "        float: the `threshold` for best-f1\n",
    "    \"\"\"\n",
    "    if step_num is None or end is None:\n",
    "        end = start\n",
    "        step_num = 1\n",
    "    search_step, search_range, search_lower_bound = step_num, end - start, start\n",
    "    if verbose:\n",
    "        print(\"search range: \", search_lower_bound, search_lower_bound + search_range)\n",
    "    threshold = search_lower_bound\n",
    "    m = (-1., -1., -1.)\n",
    "    m_t = 0.0\n",
    "    for i in range(search_step):\n",
    "        threshold += search_range / float(search_step)\n",
    "        target = calc_seq(score, label, threshold, K=K, calc_latency=True)\n",
    "        if target[0] > m[0]:\n",
    "            m_t = threshold\n",
    "            m = target\n",
    "        if verbose and i % display_freq == 0:\n",
    "            print(\"cur thr: \", threshold, target, m, m_t)\n",
    "    return m, m_t\n",
    "\n",
    "def bp_search(score, label, start, end=None, step_num=1, display_freq=1, K=0, verbose=True) -> object:\n",
    "    \"\"\"\n",
    "    Find the best-precision score by searching best `threshold` in [`start`, `end`).\n",
    "    Returns:\n",
    "        list: list for results\n",
    "        float: the `threshold` for best-precision\n",
    "    \"\"\"\n",
    "    if step_num is None or end is None:\n",
    "        end = start\n",
    "        step_num = 1\n",
    "    search_step, search_range, search_lower_bound = step_num, end - start, start\n",
    "    if verbose:\n",
    "        print(\"search range: \", search_lower_bound, search_lower_bound + search_range)\n",
    "    threshold = search_lower_bound\n",
    "    m = (-1., -1., -1.)\n",
    "    m_t = 0.0\n",
    "    for i in range(search_step):\n",
    "        threshold += search_range / float(search_step)\n",
    "        target = calc_seq(score, label, threshold, K=K, calc_latency=True)\n",
    "        if target[1] > m[1]:\n",
    "            m_t = threshold\n",
    "            m = target\n",
    "        if verbose and i % display_freq == 0:\n",
    "            print(\"cur thr: \", threshold, target, m, m_t)\n",
    "    return m, m_t"
   ]
  },
  {
   "cell_type": "code",
   "execution_count": 11,
   "metadata": {},
   "outputs": [],
   "source": [
    "from extract_rule_based_features import ExtractFeatures, detect_bead"
   ]
  },
  {
   "cell_type": "code",
   "execution_count": 22,
   "metadata": {},
   "outputs": [],
   "source": [
    "Anode_Normal = sorted([x for x in Path(\"../data/230507/Anode/Normal\").glob(\"*.csv\")])\n",
    "Anode_Abnormal = sorted([x for x in Path(\"../data/230507/Anode/Abnormal\").glob(\"*.csv\")])\n",
    "\n",
    "data_folder_list = Anode_Normal + Anode_Abnormal\n",
    "num_train_dataset = 28\n",
    "Anode_Train = pd.DataFrame(columns=['LO', 'BR', 'NIR', 'VIS', 'label','dataset_idx','laser_active','bead_num','stamp'])\n",
    "Anode_Test = pd.DataFrame(columns=['LO', 'BR', 'NIR', 'VIS', 'label','dataset_idx','laser_active','bead_num','stamp'])"
   ]
  },
  {
   "cell_type": "code",
   "execution_count": null,
   "metadata": {},
   "outputs": [],
   "source": [
    "def slice_end_to_end(path):\n",
    "    extractor = ExtractFeatures(path)\n",
    "    data = extractor.data\n",
    "    if 'Abnormal' in path:\n",
    "        data['label'] = 1\n",
    "        data['dataset_idx'] = path[-12:-10]\n",
    "    else:\n",
    "        data['label'] = 0\n",
    "        data['dataset_idx'] = str(path).split('/')[-1].split('.')[0]\n",
    "\n",
    "    bead_array = detect_bead(data['LO'])\n",
    "\n",
    "    start = bead_array[0,0]\n",
    "    end = bead_array[-1,1]\n",
    "    data = data[start:end]\n",
    "\n",
    "    data['bead_num'] = 0\n",
    "    data['laser_active'] = 0\n",
    "\n",
    "    for i in range(len(bead_array)):\n",
    "        data.loc[bead_array[i][0]:bead_array[i][1],'laser_active'] = 1 # 휴지기간이 아닌 곳을 인덱싱 하기 위함\n",
    "        data.loc[bead_array[i][0]:bead_array[i][1],'bead_num'] = int(i+1) # 비드 index\n",
    "\n",
    "    return data\n",
    "\n",
    "for i in range(num_train_dataset):\n",
    "    bead_i = slice_end_to_end(str(data_folder_list[i]))    \n",
    "    bead_i['stamp'] = int(i+1) #시편\n",
    "    Anode_Train = pd.concat([Anode_Train, bead_i])\n",
    "\n",
    "for i in range(num_train_dataset, len(data_folder_list)):\n",
    "    bead_i = slice_end_to_end(str(data_folder_list[i]))\n",
    "    bead_i['stamp'] = int(i+1)\n",
    "    Anode_Test = pd.concat([Anode_Test, bead_i])"
   ]
  },
  {
   "cell_type": "code",
   "execution_count": 24,
   "metadata": {},
   "outputs": [],
   "source": [
    "test_temp = Anode_Test.copy().reset_index(drop=True)"
   ]
  },
  {
   "cell_type": "code",
   "execution_count": 25,
   "metadata": {},
   "outputs": [],
   "source": [
    "total_window = (len(test_temp)-25)//5+1\n",
    "\n",
    "bead_index = []\n",
    "bead_stamp = []\n",
    "bead_id = []\n",
    "\n",
    "for i in range(total_window):\n",
    "    if sum(test_temp.loc[i*5:i*5+24,'laser_active'])==25: # 윈도우 안에 있는 data point가 모두 휴지 기간이 아닌 경우 \n",
    "        bead_index.append(i) #휴지기간이 아닌 data point index \n",
    "        bead_stamp.append(test_temp.loc[i*5,'stamp']) # 각 비드의 시편\n",
    "        bead_id.append(test_temp.loc[i*5,'bead_num']) # 각 비드의 index "
   ]
  },
  {
   "cell_type": "code",
   "execution_count": 26,
   "metadata": {},
   "outputs": [
    {
     "data": {
      "text/html": [
       "<div>\n",
       "<style scoped>\n",
       "    .dataframe tbody tr th:only-of-type {\n",
       "        vertical-align: middle;\n",
       "    }\n",
       "\n",
       "    .dataframe tbody tr th {\n",
       "        vertical-align: top;\n",
       "    }\n",
       "\n",
       "    .dataframe thead th {\n",
       "        text-align: right;\n",
       "    }\n",
       "</style>\n",
       "<table border=\"1\" class=\"dataframe\">\n",
       "  <thead>\n",
       "    <tr style=\"text-align: right;\">\n",
       "      <th></th>\n",
       "      <th>score</th>\n",
       "      <th>true_label</th>\n",
       "    </tr>\n",
       "  </thead>\n",
       "  <tbody>\n",
       "    <tr>\n",
       "      <th>0</th>\n",
       "      <td>180.352066</td>\n",
       "      <td>0.0</td>\n",
       "    </tr>\n",
       "    <tr>\n",
       "      <th>1</th>\n",
       "      <td>212.830338</td>\n",
       "      <td>0.0</td>\n",
       "    </tr>\n",
       "    <tr>\n",
       "      <th>2</th>\n",
       "      <td>230.232071</td>\n",
       "      <td>0.0</td>\n",
       "    </tr>\n",
       "    <tr>\n",
       "      <th>3</th>\n",
       "      <td>235.405533</td>\n",
       "      <td>0.0</td>\n",
       "    </tr>\n",
       "    <tr>\n",
       "      <th>4</th>\n",
       "      <td>232.245163</td>\n",
       "      <td>0.0</td>\n",
       "    </tr>\n",
       "  </tbody>\n",
       "</table>\n",
       "</div>"
      ],
      "text/plain": [
       "        score  true_label\n",
       "0  180.352066         0.0\n",
       "1  212.830338         0.0\n",
       "2  230.232071         0.0\n",
       "3  235.405533         0.0\n",
       "4  232.245163         0.0"
      ]
     },
     "execution_count": 26,
     "metadata": {},
     "output_type": "execute_result"
    }
   ],
   "source": [
    "result = pd.read_csv('./Test_AD_results_endtoend.csv') # 모델 Inference 결과를 저장해둔 csv 파일입니다.\n",
    "result.head(5)"
   ]
  },
  {
   "cell_type": "code",
   "execution_count": 27,
   "metadata": {},
   "outputs": [],
   "source": [
    "active_beads = result.loc[bead_index] # 휴지기간을 제외한 data point indexing\n",
    "active_beads['stamp'] = bead_stamp\n",
    "active_beads['beads_id'] = bead_id\n",
    "\n",
    "active_beads.reset_index(drop=True, inplace = True)"
   ]
  },
  {
   "cell_type": "code",
   "execution_count": 28,
   "metadata": {},
   "outputs": [],
   "source": [
    "beads_window_mean_df = active_beads.groupby(['stamp','beads_id'])[['score','true_label']].mean().reset_index().sort_values(by=['stamp','beads_id'])"
   ]
  },
  {
   "cell_type": "code",
   "execution_count": 29,
   "metadata": {},
   "outputs": [
    {
     "data": {
      "text/plain": [
       "1350"
      ]
     },
     "execution_count": 29,
     "metadata": {},
     "output_type": "execute_result"
    }
   ],
   "source": [
    "len(beads_window_mean_df) # 실제 비드 개수와 동일함 (=54*25)"
   ]
  },
  {
   "cell_type": "code",
   "execution_count": 30,
   "metadata": {},
   "outputs": [],
   "source": [
    "anomaly_score = beads_window_mean_df['score']\n",
    "ground_truth = beads_window_mean_df['true_label']"
   ]
  },
  {
   "cell_type": "code",
   "execution_count": 35,
   "metadata": {},
   "outputs": [
    {
     "name": "stdout",
     "output_type": "stream",
     "text": [
      "AUROC: 0.4987, F1: 0.2343, Precision: 1.0000, Recall: 0.1327\n"
     ]
    }
   ],
   "source": [
    "# Best Precision\n",
    "(f1, precision, recall, _, _, _, _, AUROC, _, _), threshold = bp_search(\n",
    "                                                                score = anomaly_score,\n",
    "                                                                label = ground_truth,\n",
    "                                                                start = min(anomaly_score), \n",
    "                                                                end = np.percentile(anomaly_score, 95), \n",
    "                                                                step_num = 10000,\n",
    "                                                                K = 100, \n",
    "                                                                verbose = False\n",
    "                                                                )\n",
    "\n",
    "print(f'AUROC: {AUROC:.4f}, F1: {f1:.4f}, Precision: {precision:.4f}, Recall: {recall:.4f}')"
   ]
  },
  {
   "cell_type": "code",
   "execution_count": 36,
   "metadata": {},
   "outputs": [
    {
     "data": {
      "text/plain": [
       "(378, 0, 843, 129)"
      ]
     },
     "execution_count": 36,
     "metadata": {},
     "output_type": "execute_result"
    }
   ],
   "source": [
    "pred = (anomaly_score>threshold).astype(int)\n",
    "\n",
    "tn, fp, fn, tp = confusion_matrix(ground_truth, pred).ravel()\n",
    "(tn, fp, fn, tp)"
   ]
  },
  {
   "cell_type": "code",
   "execution_count": 37,
   "metadata": {},
   "outputs": [
    {
     "data": {
      "image/png": "[encoded data removed]",
      "text/plain": [
       "<Figure size 1200x400 with 1 Axes>"
      ]
     },
     "metadata": {},
     "output_type": "display_data"
    }
   ],
   "source": [
    "check_graph(pred, np.array(ground_truth))\n",
    "plt.show()"
   ]
  },
  {
   "cell_type": "code",
   "execution_count": 38,
   "metadata": {},
   "outputs": [
    {
     "data": {
      "image/png": "[encoded data removed]",
      "text/plain": [
       "<Figure size 1200x400 with 1 Axes>"
      ]
     },
     "metadata": {},
     "output_type": "display_data"
    }
   ],
   "source": [
    "check_graph(np.array(anomaly_score), ground_truth,1,threshold)\n",
    "plt.title('TAnoGAN Test Result (Anode)')\n",
    "plt.show()"
   ]
  },
  {
   "cell_type": "code",
   "execution_count": null,
   "metadata": {},
   "outputs": [],
   "source": []
  }
 ],
 "metadata": {
  "kernelspec": {
   "display_name": "Python 3",
   "language": "python",
   "name": "python3"
  },
  "language_info": {
   "codemirror_mode": {
    "name": "ipython",
    "version": 3
   },
   "file_extension": ".py",
   "mimetype": "text/x-python",
   "name": "python",
   "nbconvert_exporter": "python",
   "pygments_lexer": "ipython3",
   "version": "3.6.9"
  },
  "orig_nbformat": 4
 },
 "nbformat": 4,
 "nbformat_minor": 2
}
