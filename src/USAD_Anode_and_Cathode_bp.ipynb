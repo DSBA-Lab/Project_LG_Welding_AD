{
 "cells": [
  {
   "cell_type": "markdown",
   "metadata": {},
   "source": [
    "# rule based feature 추출"
   ]
  },
  {
   "cell_type": "code",
   "execution_count": 1,
   "metadata": {
    "ExecuteTime": {
     "end_time": "2023-05-08T07:33:04.542280Z",
     "start_time": "2023-05-08T07:33:03.542912Z"
    }
   },
   "outputs": [],
   "source": [
    "import numpy as np\n",
    "import pandas as pd\n",
    "from pathlib import Path\n",
    "# import Project_LG_Welding_AD.src.extract_rule_based_features as extract_rule_based_features\n",
    "from Project_LG_Welding_AD.src.extract_rule_based_features import ExtractFeatures, detect_bead\n",
    "from sklearn.ensemble import IsolationForest\n",
    "from sklearn.svm import OneClassSVM\n",
    "from sklearn.mixture import GaussianMixture\n",
    "from sklearn.neighbors import KernelDensity\n",
    "from sklearn.metrics import confusion_matrix, roc_auc_score, accuracy_score, precision_score, recall_score, f1_score, average_precision_score\n",
    "from matplotlib import pyplot as plt\n",
    "from collections import Counter\n",
    "import os\n",
    "import torch\n",
    "from sklearn.preprocessing import MinMaxScaler, StandardScaler\n",
    "from collections import Counter\n",
    "\n",
    "\n",
    "%matplotlib inline\n",
    "\n",
    "wd = Path.cwd()\n",
    "data_path = wd.parent / 'data'"
   ]
  },
  {
   "cell_type": "markdown",
   "metadata": {},
   "source": [
    "## Anode"
   ]
  },
  {
   "cell_type": "code",
   "execution_count": 2,
   "metadata": {},
   "outputs": [
    {
     "data": {
      "text/plain": [
       "PosixPath('/workspace/LG_sangiwon')"
      ]
     },
     "execution_count": 2,
     "metadata": {},
     "output_type": "execute_result"
    }
   ],
   "source": [
    "wd"
   ]
  },
  {
   "cell_type": "code",
   "execution_count": 3,
   "metadata": {},
   "outputs": [
    {
     "data": {
      "text/plain": [
       "PosixPath('/workspace/data')"
      ]
     },
     "execution_count": 3,
     "metadata": {},
     "output_type": "execute_result"
    }
   ],
   "source": [
    "data_path"
   ]
  },
  {
   "cell_type": "code",
   "execution_count": 4,
   "metadata": {},
   "outputs": [],
   "source": [
    "data_path = '/workspace/LG_sangiwon/data/'"
   ]
  },
  {
   "cell_type": "code",
   "execution_count": 5,
   "metadata": {
    "ExecuteTime": {
     "end_time": "2023-05-08T07:33:04.551160Z",
     "start_time": "2023-05-08T07:33:04.544004Z"
    }
   },
   "outputs": [
    {
     "data": {
      "text/plain": [
       "(35, 18)"
      ]
     },
     "execution_count": 5,
     "metadata": {},
     "output_type": "execute_result"
    }
   ],
   "source": [
    "Anode_Normal = sorted([x for x in Path(os.path.join(data_path, \"230507/Anode/Normal\")).glob(\"*.csv\")])\n",
    "Anode_Normal = sorted(Anode_Normal)\n",
    "\n",
    "Anode_Abnormal = sorted([x for x in Path(os.path.join(data_path, \"230507/Anode/Abnormal\")).glob(\"*.csv\")])\n",
    "Anode_Abnormal = sorted(Anode_Abnormal)\n",
    "len(Anode_Normal), len(Anode_Abnormal)"
   ]
  },
  {
   "cell_type": "code",
   "execution_count": 6,
   "metadata": {},
   "outputs": [],
   "source": [
    "# data = pd.read_csv(os.path.join(data_path, \"230507/Anode/Normal/20230412_110032_0__03_Total.csv\"))\n",
    "# len(data)\n",
    "\n",
    "# data2 = pd.read_csv(os.path.join(data_path, \"230507/Anode/Normal/31.csv\"))\n",
    "# len(data2)"
   ]
  },
  {
   "cell_type": "code",
   "execution_count": 7,
   "metadata": {
    "ExecuteTime": {
     "end_time": "2023-05-08T07:33:04.922634Z",
     "start_time": "2023-05-08T07:33:04.818687Z"
    }
   },
   "outputs": [],
   "source": [
    "def check_graph(xs, att=None, piece=1, threshold=None):\n",
    "    \"\"\"\n",
    "    anomaly score and anomaly label visualization\n",
    "\n",
    "    Parameters\n",
    "    ----------\n",
    "    xs : np.ndarray\n",
    "        anomaly scores\n",
    "    att : np.ndarray\n",
    "        anomaly labels\n",
    "    piece : int\n",
    "        number of figures to separate\n",
    "    threshold : float(default=None)\n",
    "        anomaly threshold\n",
    "\n",
    "    Return\n",
    "    ------\n",
    "    fig : plt.figure\n",
    "    \"\"\"\n",
    "    l = xs.shape[0]\n",
    "    chunk = l // piece\n",
    "    fig, axs = plt.subplots(piece, figsize=(12, 4 * piece))\n",
    "    for i in range(piece):\n",
    "        L = i * chunk\n",
    "        R = min(L + chunk, l)\n",
    "        xticks = np.arange(L, R)\n",
    "        if piece == 1:\n",
    "            ax = axs\n",
    "        else:\n",
    "            ax = axs[i]\n",
    "        ax.plot(xticks, xs[L:R], color='#0C090A')\n",
    "        ymin, ymax = ax.get_ylim()\n",
    "        ymin = 0\n",
    "        ax.set_ylim(ymin, ymax)\n",
    "        if len(xs[L:R]) > 0 and att is not None:\n",
    "            ax.vlines(xticks[np.where(att[L:R] == 1)], ymin=ymin, ymax=ymax, color='#FED8B1',\n",
    "                          alpha=0.6, label='true anomaly')\n",
    "        ax.plot(xticks, xs[L:R], color='#0C090A', label='anomaly score')\n",
    "        if threshold is not None:\n",
    "            ax.axhline(y=threshold, color='r', linestyle='--', alpha=0.8, label=f'threshold:{threshold:.4f}')\n",
    "        ax.legend()\n",
    "\n",
    "    return fig"
   ]
  },
  {
   "cell_type": "markdown",
   "metadata": {},
   "source": [
    "### Dataset별 bead detection 후 time series concat"
   ]
  },
  {
   "cell_type": "code",
   "execution_count": 8,
   "metadata": {},
   "outputs": [],
   "source": [
    "def slice_bead_data(path, set_bead_100=False):\n",
    "    \"path: data 저장 경로 (str)\"\n",
    "    extractor = ExtractFeatures(path)\n",
    "    data = extractor.data\n",
    "    if 'Abnormal' in path:\n",
    "        data['label'] = 1\n",
    "        data['dataset_idx'] = path[-12:-10]\n",
    "    else:\n",
    "        data['label'] = 0\n",
    "        data['dataset_idx'] = str(path).split('/')[-1].split('.')[0]\n",
    "    bead_array = detect_bead(data['LO'])\n",
    "    data['bead_num'] = '0'\n",
    "    \n",
    "    if not set_bead_100:\n",
    "        total_data = data.iloc[bead_array[0][0]:bead_array[0][1]+1]\n",
    "    else:\n",
    "        total_data = data.iloc[bead_array[0][0]:bead_array[0][0]+100]\n",
    "    \n",
    "    if 'Abnormal' in path:\n",
    "        total_data['identifier'] = 'Abnormal_'+ path[-12:-10] + '_' + str(0)\n",
    "    \n",
    "    else:\n",
    "        total_data['identifier'] = 'Normal_'+ str(path).split('/')[-1].split('.')[0] + '_' + str(0)\n",
    "\n",
    "    if not set_bead_100:\n",
    "        for i in range(1, len(bead_array)):\n",
    "            bead_data = data.iloc[bead_array[i][0]:bead_array[i][1]]\n",
    "            bead_data['bead_num'] = str(i)\n",
    "            if 'Abnormal' in path:\n",
    "                bead_data['identifier'] = 'Abnormal_'+ path[-12:-10] + '_' + str(i)\n",
    "            \n",
    "            else:\n",
    "                bead_data['identifier'] = 'Normal_'+ str(path).split('/')[-1].split('.')[0] + '_' + str(i)\n",
    "                \n",
    "            total_data = pd.concat([total_data, bead_data])\n",
    "\n",
    "    else:\n",
    "        for i in range(1, len(bead_array)):\n",
    "            bead_data = data.iloc[bead_array[i][0]:bead_array[i][0]+100]\n",
    "            bead_data['bead_num'] = str(i)\n",
    "            if 'Abnormal' in path:\n",
    "                bead_data['identifier'] = 'Abnormal_'+ path[-12:-10] + '_' + str(i)\n",
    "            \n",
    "            else:\n",
    "                bead_data['identifier'] = 'Normal_'+ str(path).split('/')[-1].split('.')[0] + '_' + str(i)\n",
    "                \n",
    "            total_data = pd.concat([total_data, bead_data])\n",
    "                \n",
    "    return total_data\n",
    "\n",
    "def calc_point2point(predict, actual):\n",
    "    \"\"\"\n",
    "    calculate f1 score by predict and actual.\n",
    "    Args:\n",
    "        predict (np.ndarray): the predict label\n",
    "        actual (np.ndarray): np.ndarray\n",
    "    \"\"\"\n",
    "    TP = np.sum(predict * actual)\n",
    "    TN = np.sum((1 - predict) * (1 - actual))\n",
    "    FP = np.sum(predict * (1 - actual))\n",
    "    FN = np.sum((1 - predict) * actual)\n",
    "    precision = TP / (TP + FP + 0.00001)\n",
    "    recall = TP / (TP + FN + 0.00001)\n",
    "    f1 = 2 * precision * recall / (precision + recall + 0.00001)\n",
    "    return f1, precision, recall, TP, TN, FP, FN\n",
    "\n",
    "\n",
    "def adjust_predicts(score, label,\n",
    "                    threshold=None,\n",
    "                    pred=None,\n",
    "                    calc_latency=False):\n",
    "    \"\"\"\n",
    "    Calculate adjusted predict labels using given `score`, `threshold` (or given `pred`) and `label`.\n",
    "    Args:\n",
    "        score (np.ndarray): The anomaly score\n",
    "        label (np.ndarray): The ground-truth label\n",
    "        threshold (float): The threshold of anomaly score.\n",
    "            A point is labeled as \"anomaly\" if its score is lower than the threshold.\n",
    "        pred (np.ndarray or None): if not None, adjust `pred` and ignore `score` and `threshold`,\n",
    "        calc_latency (bool):\n",
    "    Returns:\n",
    "        np.ndarray: predict labels\n",
    "    \"\"\"\n",
    "    if len(score) != len(label):\n",
    "        raise ValueError(\"score and label must have the same length\")\n",
    "    score = np.asarray(score)\n",
    "    label = np.asarray(label)\n",
    "    latency = 0\n",
    "    if pred is None:\n",
    "        predict = score > threshold\n",
    "    else:\n",
    "        predict = pred\n",
    "    actual = label > 0.1\n",
    "    anomaly_state = False\n",
    "    anomaly_count = 0\n",
    "    for i in range(len(score)):\n",
    "        if actual[i] and predict[i] and not anomaly_state:\n",
    "                anomaly_state = True\n",
    "                anomaly_count += 1\n",
    "                for j in range(i, 0, -1):\n",
    "                    if not actual[j]:\n",
    "                        break\n",
    "                    else:\n",
    "                        if not predict[j]:\n",
    "                            predict[j] = True\n",
    "                            latency += 1\n",
    "        elif not actual[i]:\n",
    "            anomaly_state = False\n",
    "        if anomaly_state:\n",
    "            predict[i] = True\n",
    "    if calc_latency:\n",
    "        return predict, latency / (anomaly_count + 1e-4)\n",
    "    else:\n",
    "        return predict\n",
    "\n",
    "\n",
    "def PA_percentile(score, label,\n",
    "                  threshold=None,\n",
    "                  pred=None,\n",
    "                  K=100,\n",
    "                  calc_latency=False):\n",
    "    \"\"\"\n",
    "    Calculate adjusted predict labels using given `score`, `threshold` (or given `pred`) and `label`.\n",
    "    Args:\n",
    "        score (np.ndarray): The anomaly score\n",
    "        label (np.ndarray): The ground-truth label\n",
    "        threshold (float): The threshold of anomaly score.\n",
    "            A point is labeled as \"anomaly\" if its score is lower than the threshold.\n",
    "        pred (np.ndarray or None): if not None, adjust `pred` and ignore `score` and `threshold`,\n",
    "        calc_latency (bool):\n",
    "    Returns:\n",
    "        np.ndarray: predict labels\n",
    "    \"\"\"\n",
    "    if len(score) != len(label):\n",
    "        raise ValueError(\"score and label must have the same length\")\n",
    "    score = np.asarray(score)\n",
    "    label = np.asarray(label)\n",
    "    latency = 0\n",
    "    if pred is None:\n",
    "        predict = score > threshold\n",
    "    else:\n",
    "        predict = pred\n",
    "    actual = label > 0.1\n",
    "    anomaly_state = False\n",
    "    anomaly_count = 0\n",
    "    anomalies = []\n",
    "\n",
    "    for i in range(len(actual)):\n",
    "        if actual[i]:\n",
    "            if not anomaly_state:\n",
    "                anomaly_state = True\n",
    "                anomaly_count += 1\n",
    "                anomalies.append([i, i])\n",
    "            else:\n",
    "                anomalies[-1][-1] = i\n",
    "        else:\n",
    "            anomaly_state = False\n",
    "\n",
    "    for i, [start, end] in enumerate(anomalies):\n",
    "        collect = Counter(predict[start:end + 1])[1]\n",
    "        anomaly_count += collect\n",
    "        collect_ratio = collect / (end - start + 1)\n",
    "\n",
    "        if collect_ratio * 100 >= K and collect > 0:\n",
    "            predict[start:end + 1] = True\n",
    "            latency += (end - start + 1) - collect\n",
    "\n",
    "    if calc_latency:\n",
    "        return predict, latency / (anomaly_count + 1e-4)\n",
    "    else:\n",
    "        return predict\n",
    "\n",
    "\n",
    "def calc_seq(score, label, threshold, K=0, calc_latency=False):\n",
    "    \"\"\"\n",
    "    Calculate f1 score for a score sequence\n",
    "    \"\"\"\n",
    "    if calc_latency:\n",
    "        roc_auc = roc_auc_score(label, score)\n",
    "        auprc = average_precision_score(label, score)\n",
    "        #predict, latency = adjust_predicts(score, label, threshold, calc_latency=calc_latency)\n",
    "        predict, latency = PA_percentile(score, label, threshold, K=K, calc_latency=calc_latency)\n",
    "        t = list(calc_point2point(predict, label))\n",
    "        t.append(roc_auc)\n",
    "        t.append(auprc)\n",
    "        t.append(latency)\n",
    "        return t\n",
    "    else:\n",
    "        roc_auc = roc_auc_score(label, score)\n",
    "        auprc = average_precision_score(label, score)\n",
    "        # predict = adjust_predicts(score, label, threshold, calc_latency=calc_latency)\n",
    "        predict = PA_percentile(score, label, threshold, K=K, calc_latency=calc_latency)\n",
    "        t = list(calc_point2point(predict, label))\n",
    "        t.append(roc_auc)\n",
    "        t.append(auprc)\n",
    "        return t\n",
    "\n",
    "\n",
    "def bf_search(score, label, start, end=None, step_num=1, display_freq=1, K=0, verbose=True) -> object:\n",
    "    \"\"\"\n",
    "    Find the best-f1 score by searching best `threshold` in [`start`, `end`).\n",
    "    Returns:\n",
    "        list: list for results\n",
    "        float: the `threshold` for best-f1\n",
    "    \"\"\"\n",
    "    if step_num is None or end is None:\n",
    "        end = start\n",
    "        step_num = 1\n",
    "    search_step, search_range, search_lower_bound = step_num, end - start, start\n",
    "    if verbose:\n",
    "        print(\"search range: \", search_lower_bound, search_lower_bound + search_range)\n",
    "    threshold = search_lower_bound\n",
    "    m = (-1., -1., -1.)\n",
    "    m_t = 0.0\n",
    "    for i in range(search_step):\n",
    "        threshold += search_range / float(search_step)\n",
    "        target = calc_seq(score, label, threshold, K=K, calc_latency=True)\n",
    "        if target[0] > m[0]:\n",
    "            m_t = threshold\n",
    "            m = target\n",
    "        if verbose and i % display_freq == 0:\n",
    "            print(\"cur thr: \", threshold, target, m, m_t)\n",
    "    return m, m_t"
   ]
  },
  {
   "cell_type": "markdown",
   "metadata": {},
   "source": [
    "## Train Test split\n",
    "### Train -> 35개 정상 dataset 중 80%인 28개\n",
    "### Test -> 18개 비정상 dataset + 정상 7개 dataset = 25개 dataset"
   ]
  },
  {
   "cell_type": "code",
   "execution_count": 9,
   "metadata": {},
   "outputs": [
    {
     "data": {
      "text/plain": [
       "35"
      ]
     },
     "execution_count": 9,
     "metadata": {},
     "output_type": "execute_result"
    }
   ],
   "source": [
    "len(Anode_Normal)"
   ]
  },
  {
   "cell_type": "code",
   "execution_count": 130,
   "metadata": {
    "collapsed": true,
    "jupyter": {
     "outputs_hidden": true
    }
   },
   "outputs": [
    {
     "name": "stdout",
     "output_type": "stream",
     "text": [
      "Detected bead num: 54\n"
     ]
    },
    {
     "name": "stderr",
     "output_type": "stream",
     "text": [
      "/opt/conda/lib/python3.6/site-packages/ipykernel_launcher.py:23: SettingWithCopyWarning: \n",
      "A value is trying to be set on a copy of a slice from a DataFrame.\n",
      "Try using .loc[row_indexer,col_indexer] = value instead\n",
      "\n",
      "See the caveats in the documentation: https://pandas.pydata.org/pandas-docs/stable/user_guide/indexing.html#returning-a-view-versus-a-copy\n",
      "/opt/conda/lib/python3.6/site-packages/ipykernel_launcher.py:40: SettingWithCopyWarning: \n",
      "A value is trying to be set on a copy of a slice from a DataFrame.\n",
      "Try using .loc[row_indexer,col_indexer] = value instead\n",
      "\n",
      "See the caveats in the documentation: https://pandas.pydata.org/pandas-docs/stable/user_guide/indexing.html#returning-a-view-versus-a-copy\n",
      "/opt/conda/lib/python3.6/site-packages/ipykernel_launcher.py:45: SettingWithCopyWarning: \n",
      "A value is trying to be set on a copy of a slice from a DataFrame.\n",
      "Try using .loc[row_indexer,col_indexer] = value instead\n",
      "\n",
      "See the caveats in the documentation: https://pandas.pydata.org/pandas-docs/stable/user_guide/indexing.html#returning-a-view-versus-a-copy\n"
     ]
    },
    {
     "ename": "KeyboardInterrupt",
     "evalue": "",
     "output_type": "error",
     "traceback": [
      "\u001b[0;31m\u001b[0m",
      "\u001b[0;31mKeyboardInterrupt\u001b[0mTraceback (most recent call last)",
      "\u001b[0;32m<ipython-input-130-eec2af4e7dec>\u001b[0m in \u001b[0;36m<module>\u001b[0;34m\u001b[0m\n\u001b[1;32m      4\u001b[0m \u001b[0mAnode_Test\u001b[0m \u001b[0;34m=\u001b[0m \u001b[0mpd\u001b[0m\u001b[0;34m.\u001b[0m\u001b[0mDataFrame\u001b[0m\u001b[0;34m(\u001b[0m\u001b[0mcolumns\u001b[0m\u001b[0;34m=\u001b[0m\u001b[0;34m[\u001b[0m\u001b[0;34m'LO'\u001b[0m\u001b[0;34m,\u001b[0m \u001b[0;34m'BR'\u001b[0m\u001b[0;34m,\u001b[0m \u001b[0;34m'NIR'\u001b[0m\u001b[0;34m,\u001b[0m \u001b[0;34m'VIS'\u001b[0m\u001b[0;34m,\u001b[0m \u001b[0;34m'label'\u001b[0m\u001b[0;34m,\u001b[0m\u001b[0;34m'dataset_idx'\u001b[0m\u001b[0;34m,\u001b[0m\u001b[0;34m'bead_num'\u001b[0m\u001b[0;34m]\u001b[0m\u001b[0;34m)\u001b[0m\u001b[0;34m\u001b[0m\u001b[0;34m\u001b[0m\u001b[0m\n\u001b[1;32m      5\u001b[0m \u001b[0;32mfor\u001b[0m \u001b[0mi\u001b[0m \u001b[0;32min\u001b[0m \u001b[0mrange\u001b[0m\u001b[0;34m(\u001b[0m\u001b[0mnum_train_dataset\u001b[0m\u001b[0;34m)\u001b[0m\u001b[0;34m:\u001b[0m\u001b[0;34m\u001b[0m\u001b[0;34m\u001b[0m\u001b[0m\n\u001b[0;32m----> 6\u001b[0;31m     \u001b[0mbead_i\u001b[0m \u001b[0;34m=\u001b[0m \u001b[0mslice_bead_data\u001b[0m\u001b[0;34m(\u001b[0m\u001b[0mstr\u001b[0m\u001b[0;34m(\u001b[0m\u001b[0mdata_folder_list\u001b[0m\u001b[0;34m[\u001b[0m\u001b[0mi\u001b[0m\u001b[0;34m]\u001b[0m\u001b[0;34m)\u001b[0m\u001b[0;34m,\u001b[0m\u001b[0mset_bead_100\u001b[0m\u001b[0;34m=\u001b[0m\u001b[0;32mTrue\u001b[0m\u001b[0;34m)\u001b[0m\u001b[0;34m\u001b[0m\u001b[0;34m\u001b[0m\u001b[0m\n\u001b[0m\u001b[1;32m      7\u001b[0m     \u001b[0mAnode_Train\u001b[0m \u001b[0;34m=\u001b[0m \u001b[0mpd\u001b[0m\u001b[0;34m.\u001b[0m\u001b[0mconcat\u001b[0m\u001b[0;34m(\u001b[0m\u001b[0;34m[\u001b[0m\u001b[0mAnode_Train\u001b[0m\u001b[0;34m,\u001b[0m \u001b[0mbead_i\u001b[0m\u001b[0;34m]\u001b[0m\u001b[0;34m)\u001b[0m\u001b[0;34m\u001b[0m\u001b[0;34m\u001b[0m\u001b[0m\n\u001b[1;32m      8\u001b[0m \u001b[0;34m\u001b[0m\u001b[0m\n",
      "\u001b[0;32m<ipython-input-128-bd6ec789929d>\u001b[0m in \u001b[0;36mslice_bead_data\u001b[0;34m(path, set_bead_100)\u001b[0m\n\u001b[1;32m      9\u001b[0m         \u001b[0mdata\u001b[0m\u001b[0;34m[\u001b[0m\u001b[0;34m'label'\u001b[0m\u001b[0;34m]\u001b[0m \u001b[0;34m=\u001b[0m \u001b[0;36m0\u001b[0m\u001b[0;34m\u001b[0m\u001b[0;34m\u001b[0m\u001b[0m\n\u001b[1;32m     10\u001b[0m         \u001b[0mdata\u001b[0m\u001b[0;34m[\u001b[0m\u001b[0;34m'dataset_idx'\u001b[0m\u001b[0;34m]\u001b[0m \u001b[0;34m=\u001b[0m \u001b[0mstr\u001b[0m\u001b[0;34m(\u001b[0m\u001b[0mpath\u001b[0m\u001b[0;34m)\u001b[0m\u001b[0;34m.\u001b[0m\u001b[0msplit\u001b[0m\u001b[0;34m(\u001b[0m\u001b[0;34m'/'\u001b[0m\u001b[0;34m)\u001b[0m\u001b[0;34m[\u001b[0m\u001b[0;34m-\u001b[0m\u001b[0;36m1\u001b[0m\u001b[0;34m]\u001b[0m\u001b[0;34m.\u001b[0m\u001b[0msplit\u001b[0m\u001b[0;34m(\u001b[0m\u001b[0;34m'.'\u001b[0m\u001b[0;34m)\u001b[0m\u001b[0;34m[\u001b[0m\u001b[0;36m0\u001b[0m\u001b[0;34m]\u001b[0m\u001b[0;34m\u001b[0m\u001b[0;34m\u001b[0m\u001b[0m\n\u001b[0;32m---> 11\u001b[0;31m     \u001b[0mbead_array\u001b[0m \u001b[0;34m=\u001b[0m \u001b[0mdetect_bead\u001b[0m\u001b[0;34m(\u001b[0m\u001b[0mdata\u001b[0m\u001b[0;34m[\u001b[0m\u001b[0;34m'LO'\u001b[0m\u001b[0;34m]\u001b[0m\u001b[0;34m)\u001b[0m\u001b[0;34m\u001b[0m\u001b[0;34m\u001b[0m\u001b[0m\n\u001b[0m\u001b[1;32m     12\u001b[0m     \u001b[0mdata\u001b[0m\u001b[0;34m[\u001b[0m\u001b[0;34m'bead_num'\u001b[0m\u001b[0;34m]\u001b[0m \u001b[0;34m=\u001b[0m \u001b[0;34m'0'\u001b[0m\u001b[0;34m\u001b[0m\u001b[0;34m\u001b[0m\u001b[0m\n\u001b[1;32m     13\u001b[0m \u001b[0;34m\u001b[0m\u001b[0m\n",
      "\u001b[0;32m/workspace/LG_sangiwon/Project_LG_Welding_AD/src/extract_rule_based_features.py\u001b[0m in \u001b[0;36mdetect_bead\u001b[0;34m(signal, degree, verbose)\u001b[0m\n\u001b[1;32m     21\u001b[0m                 \u001b[0;32mpass\u001b[0m\u001b[0;34m\u001b[0m\u001b[0;34m\u001b[0m\u001b[0m\n\u001b[1;32m     22\u001b[0m \u001b[0;31m#                 print(f'error index: {i}')\u001b[0m\u001b[0;34m\u001b[0m\u001b[0;34m\u001b[0m\u001b[0;34m\u001b[0m\u001b[0m\n\u001b[0;32m---> 23\u001b[0;31m         \u001b[0;32melif\u001b[0m \u001b[0msignal\u001b[0m\u001b[0;34m[\u001b[0m\u001b[0mi\u001b[0m \u001b[0;34m-\u001b[0m \u001b[0;36m1\u001b[0m\u001b[0;34m]\u001b[0m \u001b[0;34m-\u001b[0m \u001b[0msignal\u001b[0m\u001b[0;34m[\u001b[0m\u001b[0mi\u001b[0m\u001b[0;34m]\u001b[0m \u001b[0;34m>=\u001b[0m \u001b[0mmax_value\u001b[0m \u001b[0;34m*\u001b[0m \u001b[0mdegree\u001b[0m\u001b[0;34m:\u001b[0m\u001b[0;34m\u001b[0m\u001b[0;34m\u001b[0m\u001b[0m\n\u001b[0m\u001b[1;32m     24\u001b[0m             \u001b[0;32mif\u001b[0m \u001b[0mend\u001b[0m \u001b[0;32mis\u001b[0m \u001b[0;32mnot\u001b[0m \u001b[0;32mNone\u001b[0m\u001b[0;34m:\u001b[0m\u001b[0;34m\u001b[0m\u001b[0;34m\u001b[0m\u001b[0m\n\u001b[1;32m     25\u001b[0m                 \u001b[0mbead_index\u001b[0m\u001b[0;34m.\u001b[0m\u001b[0mappend\u001b[0m\u001b[0;34m(\u001b[0m\u001b[0mnp\u001b[0m\u001b[0;34m.\u001b[0m\u001b[0marray\u001b[0m\u001b[0;34m(\u001b[0m\u001b[0;34m[\u001b[0m\u001b[0mstart\u001b[0m\u001b[0;34m,\u001b[0m \u001b[0mi\u001b[0m\u001b[0;34m]\u001b[0m\u001b[0;34m)\u001b[0m\u001b[0;34m)\u001b[0m\u001b[0;34m\u001b[0m\u001b[0;34m\u001b[0m\u001b[0m\n",
      "\u001b[0;31mKeyboardInterrupt\u001b[0m: "
     ]
    }
   ],
   "source": [
    "data_folder_list = Anode_Normal + Anode_Abnormal\n",
    "num_train_dataset = 28\n",
    "Anode_Train = pd.DataFrame(columns=['LO', 'BR', 'NIR', 'VIS', 'label','dataset_idx','bead_num'])\n",
    "Anode_Test = pd.DataFrame(columns=['LO', 'BR', 'NIR', 'VIS', 'label','dataset_idx','bead_num'])\n",
    "for i in range(num_train_dataset):\n",
    "    bead_i = slice_bead_data(str(data_folder_list[i]),set_bead_100=True)\n",
    "    Anode_Train = pd.concat([Anode_Train, bead_i])\n",
    "\n",
    "for i in range(num_train_dataset, len(data_folder_list)):\n",
    "    bead_i = slice_bead_data(str(data_folder_list[i]),set_bead_100=True)\n",
    "    Anode_Test = pd.concat([Anode_Test, bead_i])\n"
   ]
  },
  {
   "cell_type": "code",
   "execution_count": 10,
   "metadata": {},
   "outputs": [],
   "source": [
    "import pickle"
   ]
  },
  {
   "cell_type": "code",
   "execution_count": 11,
   "metadata": {},
   "outputs": [],
   "source": [
    "# with open('./data/Anode_Train.pkl', 'wb') as f:\n",
    "#     pickle.dump(Anode_Train, f)"
   ]
  },
  {
   "cell_type": "code",
   "execution_count": 12,
   "metadata": {},
   "outputs": [],
   "source": [
    "# with open('./data/Anode_Test.pkl', 'wb') as f:\n",
    "#     pickle.dump(Anode_Test, f)"
   ]
  },
  {
   "cell_type": "code",
   "execution_count": 13,
   "metadata": {},
   "outputs": [],
   "source": [
    "with open('./data/Anode_Train.pkl', 'rb') as f:\n",
    "    Anode_Train = pickle.load(f)"
   ]
  },
  {
   "cell_type": "code",
   "execution_count": 14,
   "metadata": {},
   "outputs": [],
   "source": [
    "with open('./data/Anode_Test.pkl', 'rb') as f:\n",
    "    Anode_Test = pickle.load(f)"
   ]
  },
  {
   "cell_type": "code",
   "execution_count": 15,
   "metadata": {},
   "outputs": [
    {
     "data": {
      "text/html": [
       "<div>\n",
       "<style scoped>\n",
       "    .dataframe tbody tr th:only-of-type {\n",
       "        vertical-align: middle;\n",
       "    }\n",
       "\n",
       "    .dataframe tbody tr th {\n",
       "        vertical-align: top;\n",
       "    }\n",
       "\n",
       "    .dataframe thead th {\n",
       "        text-align: right;\n",
       "    }\n",
       "</style>\n",
       "<table border=\"1\" class=\"dataframe\">\n",
       "  <thead>\n",
       "    <tr style=\"text-align: right;\">\n",
       "      <th></th>\n",
       "      <th>LO</th>\n",
       "      <th>BR</th>\n",
       "      <th>NIR</th>\n",
       "      <th>VIS</th>\n",
       "      <th>label</th>\n",
       "      <th>dataset_idx</th>\n",
       "      <th>bead_num</th>\n",
       "      <th>identifier</th>\n",
       "    </tr>\n",
       "  </thead>\n",
       "  <tbody>\n",
       "    <tr>\n",
       "      <th>40138</th>\n",
       "      <td>0.028640</td>\n",
       "      <td>0.016105</td>\n",
       "      <td>0.012584</td>\n",
       "      <td>-0.000435</td>\n",
       "      <td>0</td>\n",
       "      <td>1</td>\n",
       "      <td>0</td>\n",
       "      <td>Normal_1_0</td>\n",
       "    </tr>\n",
       "    <tr>\n",
       "      <th>40139</th>\n",
       "      <td>1.351228</td>\n",
       "      <td>0.023538</td>\n",
       "      <td>0.024242</td>\n",
       "      <td>-0.000435</td>\n",
       "      <td>0</td>\n",
       "      <td>1</td>\n",
       "      <td>0</td>\n",
       "      <td>Normal_1_0</td>\n",
       "    </tr>\n",
       "    <tr>\n",
       "      <th>40140</th>\n",
       "      <td>2.425002</td>\n",
       "      <td>0.316958</td>\n",
       "      <td>0.030394</td>\n",
       "      <td>-0.000111</td>\n",
       "      <td>0</td>\n",
       "      <td>1</td>\n",
       "      <td>0</td>\n",
       "      <td>Normal_1_0</td>\n",
       "    </tr>\n",
       "    <tr>\n",
       "      <th>40141</th>\n",
       "      <td>2.932646</td>\n",
       "      <td>0.781971</td>\n",
       "      <td>0.031365</td>\n",
       "      <td>0.000536</td>\n",
       "      <td>0</td>\n",
       "      <td>1</td>\n",
       "      <td>0</td>\n",
       "      <td>Normal_1_0</td>\n",
       "    </tr>\n",
       "    <tr>\n",
       "      <th>40142</th>\n",
       "      <td>3.150438</td>\n",
       "      <td>1.302565</td>\n",
       "      <td>0.032337</td>\n",
       "      <td>0.002478</td>\n",
       "      <td>0</td>\n",
       "      <td>1</td>\n",
       "      <td>0</td>\n",
       "      <td>Normal_1_0</td>\n",
       "    </tr>\n",
       "    <tr>\n",
       "      <th>...</th>\n",
       "      <td>...</td>\n",
       "      <td>...</td>\n",
       "      <td>...</td>\n",
       "      <td>...</td>\n",
       "      <td>...</td>\n",
       "      <td>...</td>\n",
       "      <td>...</td>\n",
       "      <td>...</td>\n",
       "    </tr>\n",
       "    <tr>\n",
       "      <th>70778</th>\n",
       "      <td>3.322345</td>\n",
       "      <td>1.283500</td>\n",
       "      <td>0.187766</td>\n",
       "      <td>0.104103</td>\n",
       "      <td>0</td>\n",
       "      <td>34</td>\n",
       "      <td>53</td>\n",
       "      <td>Normal_34_53</td>\n",
       "    </tr>\n",
       "    <tr>\n",
       "      <th>70779</th>\n",
       "      <td>3.308450</td>\n",
       "      <td>1.235027</td>\n",
       "      <td>0.205252</td>\n",
       "      <td>0.110576</td>\n",
       "      <td>0</td>\n",
       "      <td>34</td>\n",
       "      <td>53</td>\n",
       "      <td>Normal_34_53</td>\n",
       "    </tr>\n",
       "    <tr>\n",
       "      <th>70780</th>\n",
       "      <td>3.292294</td>\n",
       "      <td>1.204005</td>\n",
       "      <td>0.208814</td>\n",
       "      <td>0.122227</td>\n",
       "      <td>0</td>\n",
       "      <td>34</td>\n",
       "      <td>53</td>\n",
       "      <td>Normal_34_53</td>\n",
       "    </tr>\n",
       "    <tr>\n",
       "      <th>70781</th>\n",
       "      <td>3.233160</td>\n",
       "      <td>1.202066</td>\n",
       "      <td>0.183557</td>\n",
       "      <td>0.129671</td>\n",
       "      <td>0</td>\n",
       "      <td>34</td>\n",
       "      <td>53</td>\n",
       "      <td>Normal_34_53</td>\n",
       "    </tr>\n",
       "    <tr>\n",
       "      <th>70782</th>\n",
       "      <td>2.360698</td>\n",
       "      <td>1.194310</td>\n",
       "      <td>0.145671</td>\n",
       "      <td>0.126758</td>\n",
       "      <td>0</td>\n",
       "      <td>34</td>\n",
       "      <td>53</td>\n",
       "      <td>Normal_34_53</td>\n",
       "    </tr>\n",
       "  </tbody>\n",
       "</table>\n",
       "<p>151200 rows × 8 columns</p>\n",
       "</div>"
      ],
      "text/plain": [
       "             LO        BR       NIR       VIS label dataset_idx bead_num  \\\n",
       "40138  0.028640  0.016105  0.012584 -0.000435     0           1        0   \n",
       "40139  1.351228  0.023538  0.024242 -0.000435     0           1        0   \n",
       "40140  2.425002  0.316958  0.030394 -0.000111     0           1        0   \n",
       "40141  2.932646  0.781971  0.031365  0.000536     0           1        0   \n",
       "40142  3.150438  1.302565  0.032337  0.002478     0           1        0   \n",
       "...         ...       ...       ...       ...   ...         ...      ...   \n",
       "70778  3.322345  1.283500  0.187766  0.104103     0          34       53   \n",
       "70779  3.308450  1.235027  0.205252  0.110576     0          34       53   \n",
       "70780  3.292294  1.204005  0.208814  0.122227     0          34       53   \n",
       "70781  3.233160  1.202066  0.183557  0.129671     0          34       53   \n",
       "70782  2.360698  1.194310  0.145671  0.126758     0          34       53   \n",
       "\n",
       "         identifier  \n",
       "40138    Normal_1_0  \n",
       "40139    Normal_1_0  \n",
       "40140    Normal_1_0  \n",
       "40141    Normal_1_0  \n",
       "40142    Normal_1_0  \n",
       "...             ...  \n",
       "70778  Normal_34_53  \n",
       "70779  Normal_34_53  \n",
       "70780  Normal_34_53  \n",
       "70781  Normal_34_53  \n",
       "70782  Normal_34_53  \n",
       "\n",
       "[151200 rows x 8 columns]"
      ]
     },
     "execution_count": 15,
     "metadata": {},
     "output_type": "execute_result"
    }
   ],
   "source": [
    "Anode_Train"
   ]
  },
  {
   "cell_type": "code",
   "execution_count": 16,
   "metadata": {},
   "outputs": [
    {
     "data": {
      "text/html": [
       "<div>\n",
       "<style scoped>\n",
       "    .dataframe tbody tr th:only-of-type {\n",
       "        vertical-align: middle;\n",
       "    }\n",
       "\n",
       "    .dataframe tbody tr th {\n",
       "        vertical-align: top;\n",
       "    }\n",
       "\n",
       "    .dataframe thead th {\n",
       "        text-align: right;\n",
       "    }\n",
       "</style>\n",
       "<table border=\"1\" class=\"dataframe\">\n",
       "  <thead>\n",
       "    <tr style=\"text-align: right;\">\n",
       "      <th></th>\n",
       "      <th>LO</th>\n",
       "      <th>BR</th>\n",
       "      <th>NIR</th>\n",
       "      <th>VIS</th>\n",
       "      <th>label</th>\n",
       "      <th>dataset_idx</th>\n",
       "      <th>bead_num</th>\n",
       "    </tr>\n",
       "    <tr>\n",
       "      <th>identifier</th>\n",
       "      <th></th>\n",
       "      <th></th>\n",
       "      <th></th>\n",
       "      <th></th>\n",
       "      <th></th>\n",
       "      <th></th>\n",
       "      <th></th>\n",
       "    </tr>\n",
       "  </thead>\n",
       "  <tbody>\n",
       "    <tr>\n",
       "      <th>Normal_10_0</th>\n",
       "      <td>100</td>\n",
       "      <td>100</td>\n",
       "      <td>100</td>\n",
       "      <td>100</td>\n",
       "      <td>100</td>\n",
       "      <td>100</td>\n",
       "      <td>100</td>\n",
       "    </tr>\n",
       "    <tr>\n",
       "      <th>Normal_10_1</th>\n",
       "      <td>100</td>\n",
       "      <td>100</td>\n",
       "      <td>100</td>\n",
       "      <td>100</td>\n",
       "      <td>100</td>\n",
       "      <td>100</td>\n",
       "      <td>100</td>\n",
       "    </tr>\n",
       "    <tr>\n",
       "      <th>Normal_10_10</th>\n",
       "      <td>100</td>\n",
       "      <td>100</td>\n",
       "      <td>100</td>\n",
       "      <td>100</td>\n",
       "      <td>100</td>\n",
       "      <td>100</td>\n",
       "      <td>100</td>\n",
       "    </tr>\n",
       "    <tr>\n",
       "      <th>Normal_10_11</th>\n",
       "      <td>100</td>\n",
       "      <td>100</td>\n",
       "      <td>100</td>\n",
       "      <td>100</td>\n",
       "      <td>100</td>\n",
       "      <td>100</td>\n",
       "      <td>100</td>\n",
       "    </tr>\n",
       "    <tr>\n",
       "      <th>Normal_10_12</th>\n",
       "      <td>100</td>\n",
       "      <td>100</td>\n",
       "      <td>100</td>\n",
       "      <td>100</td>\n",
       "      <td>100</td>\n",
       "      <td>100</td>\n",
       "      <td>100</td>\n",
       "    </tr>\n",
       "    <tr>\n",
       "      <th>...</th>\n",
       "      <td>...</td>\n",
       "      <td>...</td>\n",
       "      <td>...</td>\n",
       "      <td>...</td>\n",
       "      <td>...</td>\n",
       "      <td>...</td>\n",
       "      <td>...</td>\n",
       "    </tr>\n",
       "    <tr>\n",
       "      <th>Normal_3_53</th>\n",
       "      <td>100</td>\n",
       "      <td>100</td>\n",
       "      <td>100</td>\n",
       "      <td>100</td>\n",
       "      <td>100</td>\n",
       "      <td>100</td>\n",
       "      <td>100</td>\n",
       "    </tr>\n",
       "    <tr>\n",
       "      <th>Normal_3_6</th>\n",
       "      <td>100</td>\n",
       "      <td>100</td>\n",
       "      <td>100</td>\n",
       "      <td>100</td>\n",
       "      <td>100</td>\n",
       "      <td>100</td>\n",
       "      <td>100</td>\n",
       "    </tr>\n",
       "    <tr>\n",
       "      <th>Normal_3_7</th>\n",
       "      <td>100</td>\n",
       "      <td>100</td>\n",
       "      <td>100</td>\n",
       "      <td>100</td>\n",
       "      <td>100</td>\n",
       "      <td>100</td>\n",
       "      <td>100</td>\n",
       "    </tr>\n",
       "    <tr>\n",
       "      <th>Normal_3_8</th>\n",
       "      <td>100</td>\n",
       "      <td>100</td>\n",
       "      <td>100</td>\n",
       "      <td>100</td>\n",
       "      <td>100</td>\n",
       "      <td>100</td>\n",
       "      <td>100</td>\n",
       "    </tr>\n",
       "    <tr>\n",
       "      <th>Normal_3_9</th>\n",
       "      <td>100</td>\n",
       "      <td>100</td>\n",
       "      <td>100</td>\n",
       "      <td>100</td>\n",
       "      <td>100</td>\n",
       "      <td>100</td>\n",
       "      <td>100</td>\n",
       "    </tr>\n",
       "  </tbody>\n",
       "</table>\n",
       "<p>1512 rows × 7 columns</p>\n",
       "</div>"
      ],
      "text/plain": [
       "               LO   BR  NIR  VIS  label  dataset_idx  bead_num\n",
       "identifier                                                    \n",
       "Normal_10_0   100  100  100  100    100          100       100\n",
       "Normal_10_1   100  100  100  100    100          100       100\n",
       "Normal_10_10  100  100  100  100    100          100       100\n",
       "Normal_10_11  100  100  100  100    100          100       100\n",
       "Normal_10_12  100  100  100  100    100          100       100\n",
       "...           ...  ...  ...  ...    ...          ...       ...\n",
       "Normal_3_53   100  100  100  100    100          100       100\n",
       "Normal_3_6    100  100  100  100    100          100       100\n",
       "Normal_3_7    100  100  100  100    100          100       100\n",
       "Normal_3_8    100  100  100  100    100          100       100\n",
       "Normal_3_9    100  100  100  100    100          100       100\n",
       "\n",
       "[1512 rows x 7 columns]"
      ]
     },
     "execution_count": 16,
     "metadata": {},
     "output_type": "execute_result"
    }
   ],
   "source": [
    "Anode_Train.groupby(['identifier']).count()"
   ]
  },
  {
   "cell_type": "code",
   "execution_count": 17,
   "metadata": {},
   "outputs": [
    {
     "data": {
      "text/plain": [
       "array([100])"
      ]
     },
     "execution_count": 17,
     "metadata": {},
     "output_type": "execute_result"
    }
   ],
   "source": [
    "Anode_Train.groupby(['identifier']).count()['bead_num'].unique()"
   ]
  },
  {
   "cell_type": "code",
   "execution_count": 18,
   "metadata": {},
   "outputs": [
    {
     "data": {
      "text/plain": [
       "array([100])"
      ]
     },
     "execution_count": 18,
     "metadata": {},
     "output_type": "execute_result"
    }
   ],
   "source": [
    "Anode_Test.groupby(['identifier']).count()['bead_num'].unique()"
   ]
  },
  {
   "cell_type": "code",
   "execution_count": 19,
   "metadata": {},
   "outputs": [
    {
     "data": {
      "text/plain": [
       "array(['1', '10', '11', '12', '14', '15', '16', '17', '18', '19', '2',\n",
       "       '20', '20230412_110032_0__03_Total', '21', '22', '23', '24', '25',\n",
       "       '26', '27', '28', '29', '3', '30', '31', '32', '33', '34'],\n",
       "      dtype=object)"
      ]
     },
     "execution_count": 19,
     "metadata": {},
     "output_type": "execute_result"
    }
   ],
   "source": [
    "Anode_Train['dataset_idx'].unique()"
   ]
  },
  {
   "cell_type": "code",
   "execution_count": 20,
   "metadata": {},
   "outputs": [
    {
     "data": {
      "text/plain": [
       "40138      Normal_1_0\n",
       "40139      Normal_1_0\n",
       "40140      Normal_1_0\n",
       "40141      Normal_1_0\n",
       "40142      Normal_1_0\n",
       "             ...     \n",
       "70778    Normal_34_53\n",
       "70779    Normal_34_53\n",
       "70780    Normal_34_53\n",
       "70781    Normal_34_53\n",
       "70782    Normal_34_53\n",
       "Name: identifier, Length: 151200, dtype: object"
      ]
     },
     "execution_count": 20,
     "metadata": {},
     "output_type": "execute_result"
    }
   ],
   "source": [
    "Anode_Train['identifier']"
   ]
  },
  {
   "cell_type": "code",
   "execution_count": 21,
   "metadata": {
    "ExecuteTime": {
     "end_time": "2023-05-08T07:33:17.375826Z",
     "start_time": "2023-05-08T07:33:17.302293Z"
    }
   },
   "outputs": [],
   "source": [
    "Anode_Train_y = Anode_Train['label'].astype(float)\n",
    "Anode_Train_X = Anode_Train.drop(['label', 'dataset_idx', 'bead_num', 'identifier'], axis=1)\n",
    "Anode_Test_y = Anode_Test['label'].astype(float)\n",
    "Anode_Test_X = Anode_Test.drop(['label', 'dataset_idx', 'bead_num', 'identifier'], axis=1)"
   ]
  },
  {
   "cell_type": "code",
   "execution_count": 22,
   "metadata": {},
   "outputs": [
    {
     "data": {
      "text/html": [
       "<div>\n",
       "<style scoped>\n",
       "    .dataframe tbody tr th:only-of-type {\n",
       "        vertical-align: middle;\n",
       "    }\n",
       "\n",
       "    .dataframe tbody tr th {\n",
       "        vertical-align: top;\n",
       "    }\n",
       "\n",
       "    .dataframe thead th {\n",
       "        text-align: right;\n",
       "    }\n",
       "</style>\n",
       "<table border=\"1\" class=\"dataframe\">\n",
       "  <thead>\n",
       "    <tr style=\"text-align: right;\">\n",
       "      <th></th>\n",
       "      <th>LO</th>\n",
       "      <th>BR</th>\n",
       "      <th>NIR</th>\n",
       "      <th>VIS</th>\n",
       "    </tr>\n",
       "  </thead>\n",
       "  <tbody>\n",
       "    <tr>\n",
       "      <th>40138</th>\n",
       "      <td>0.028640</td>\n",
       "      <td>0.016105</td>\n",
       "      <td>0.012584</td>\n",
       "      <td>-0.000435</td>\n",
       "    </tr>\n",
       "    <tr>\n",
       "      <th>40139</th>\n",
       "      <td>1.351228</td>\n",
       "      <td>0.023538</td>\n",
       "      <td>0.024242</td>\n",
       "      <td>-0.000435</td>\n",
       "    </tr>\n",
       "    <tr>\n",
       "      <th>40140</th>\n",
       "      <td>2.425002</td>\n",
       "      <td>0.316958</td>\n",
       "      <td>0.030394</td>\n",
       "      <td>-0.000111</td>\n",
       "    </tr>\n",
       "    <tr>\n",
       "      <th>40141</th>\n",
       "      <td>2.932646</td>\n",
       "      <td>0.781971</td>\n",
       "      <td>0.031365</td>\n",
       "      <td>0.000536</td>\n",
       "    </tr>\n",
       "    <tr>\n",
       "      <th>40142</th>\n",
       "      <td>3.150438</td>\n",
       "      <td>1.302565</td>\n",
       "      <td>0.032337</td>\n",
       "      <td>0.002478</td>\n",
       "    </tr>\n",
       "    <tr>\n",
       "      <th>...</th>\n",
       "      <td>...</td>\n",
       "      <td>...</td>\n",
       "      <td>...</td>\n",
       "      <td>...</td>\n",
       "    </tr>\n",
       "    <tr>\n",
       "      <th>70778</th>\n",
       "      <td>3.322345</td>\n",
       "      <td>1.283500</td>\n",
       "      <td>0.187766</td>\n",
       "      <td>0.104103</td>\n",
       "    </tr>\n",
       "    <tr>\n",
       "      <th>70779</th>\n",
       "      <td>3.308450</td>\n",
       "      <td>1.235027</td>\n",
       "      <td>0.205252</td>\n",
       "      <td>0.110576</td>\n",
       "    </tr>\n",
       "    <tr>\n",
       "      <th>70780</th>\n",
       "      <td>3.292294</td>\n",
       "      <td>1.204005</td>\n",
       "      <td>0.208814</td>\n",
       "      <td>0.122227</td>\n",
       "    </tr>\n",
       "    <tr>\n",
       "      <th>70781</th>\n",
       "      <td>3.233160</td>\n",
       "      <td>1.202066</td>\n",
       "      <td>0.183557</td>\n",
       "      <td>0.129671</td>\n",
       "    </tr>\n",
       "    <tr>\n",
       "      <th>70782</th>\n",
       "      <td>2.360698</td>\n",
       "      <td>1.194310</td>\n",
       "      <td>0.145671</td>\n",
       "      <td>0.126758</td>\n",
       "    </tr>\n",
       "  </tbody>\n",
       "</table>\n",
       "<p>151200 rows × 4 columns</p>\n",
       "</div>"
      ],
      "text/plain": [
       "             LO        BR       NIR       VIS\n",
       "40138  0.028640  0.016105  0.012584 -0.000435\n",
       "40139  1.351228  0.023538  0.024242 -0.000435\n",
       "40140  2.425002  0.316958  0.030394 -0.000111\n",
       "40141  2.932646  0.781971  0.031365  0.000536\n",
       "40142  3.150438  1.302565  0.032337  0.002478\n",
       "...         ...       ...       ...       ...\n",
       "70778  3.322345  1.283500  0.187766  0.104103\n",
       "70779  3.308450  1.235027  0.205252  0.110576\n",
       "70780  3.292294  1.204005  0.208814  0.122227\n",
       "70781  3.233160  1.202066  0.183557  0.129671\n",
       "70782  2.360698  1.194310  0.145671  0.126758\n",
       "\n",
       "[151200 rows x 4 columns]"
      ]
     },
     "execution_count": 22,
     "metadata": {},
     "output_type": "execute_result"
    }
   ],
   "source": [
    "Anode_Train_X"
   ]
  },
  {
   "cell_type": "code",
   "execution_count": 23,
   "metadata": {},
   "outputs": [],
   "source": [
    "import sys\n",
    "sys.path.append(\"./TSAD\")"
   ]
  },
  {
   "cell_type": "code",
   "execution_count": 24,
   "metadata": {},
   "outputs": [],
   "source": [
    "from tsad.data import BuildDataset\n",
    "from tsad.models import BeatGAN_MOCAP\n",
    "from tsad.models import UsadModel\n",
    "from tsad.metrics import bf_search, get_best_f1"
   ]
  },
  {
   "cell_type": "code",
   "execution_count": 25,
   "metadata": {},
   "outputs": [],
   "source": [
    "window_size = 100\n",
    "slide_size = 100 # USAD의 경우 value와 window가 대응이 되어야 하기 때문에 slide size = 1\n",
    "model_type = 'reconstruction'\n",
    "# valid_split_rate = 0.8\n",
    "device = torch.device('cuda:{}'.format(0))\n",
    "\n",
    "loader_params = {\n",
    "    'batch_size': 32,\n",
    "    'shuffle': False,\n",
    "    'num_workers': 8,\n",
    "    'pin_memory': False\n",
    "}"
   ]
  },
  {
   "cell_type": "code",
   "execution_count": 26,
   "metadata": {},
   "outputs": [],
   "source": [
    "scaler = StandardScaler()\n",
    "Anode_Train_X_scaled = pd.DataFrame(scaler.fit_transform(Anode_Train_X))\n",
    "Anode_Test_X_scaled = pd.DataFrame(scaler.transform(Anode_Test_X))"
   ]
  },
  {
   "cell_type": "code",
   "execution_count": 27,
   "metadata": {},
   "outputs": [
    {
     "name": "stdout",
     "output_type": "stream",
     "text": [
      "# of valid windows: 1512\n",
      "# of valid windows: 1350\n"
     ]
    }
   ],
   "source": [
    "Anode_train_dataset = BuildDataset(Anode_Train_X_scaled, Anode_Train_X_scaled.index.to_numpy(), window_size, slide_size,\n",
    "                            attacks=None, model_type=model_type)\n",
    "\n",
    "Anode_test_dataset = BuildDataset(Anode_Test_X_scaled, Anode_Test_X_scaled.index.to_numpy(), window_size, slide_size,\n",
    "                            attacks=np.array(Anode_Test_y), model_type=model_type)"
   ]
  },
  {
   "cell_type": "code",
   "execution_count": 28,
   "metadata": {},
   "outputs": [],
   "source": [
    "# w_size, z_size 정의\n",
    "\n",
    "hidden_size = 100\n",
    "# w_size = window_size*len(Anode_Train_X_scaled[0]) # window size * feature 수\n",
    "w_size = window_size*4 # window size * feature 수\n",
    "z_size = window_size * hidden_size"
   ]
  },
  {
   "cell_type": "code",
   "execution_count": 29,
   "metadata": {},
   "outputs": [],
   "source": [
    "import torch.utils.data as data_utils\n",
    "\n",
    "Anode_train_dataloader = torch.utils.data.DataLoader(Anode_train_dataset,\n",
    "                                                batch_size=loader_params['batch_size'],\n",
    "                                                shuffle=loader_params['shuffle'],\n",
    "                                                num_workers=loader_params['num_workers'],\n",
    "                                                pin_memory=loader_params['pin_memory'],\n",
    "                                                drop_last=False)\n",
    "\n",
    "\n",
    "Anode_test_dataloader = torch.utils.data.DataLoader(Anode_test_dataset,\n",
    "                                                batch_size=loader_params['batch_size'],\n",
    "                                                shuffle=loader_params['shuffle'],\n",
    "                                                num_workers=loader_params['num_workers'],\n",
    "                                                pin_memory=loader_params['pin_memory'],\n",
    "                                                drop_last=False)"
   ]
  },
  {
   "cell_type": "code",
   "execution_count": 30,
   "metadata": {},
   "outputs": [],
   "source": [
    "model = UsadModel(w_size, z_size)\n",
    "model = UsadModel.to_device(model,device)"
   ]
  },
  {
   "cell_type": "code",
   "execution_count": 31,
   "metadata": {
    "collapsed": true,
    "jupyter": {
     "outputs_hidden": true
    }
   },
   "outputs": [
    {
     "name": "stderr",
     "output_type": "stream",
     "text": [
      "  0%|          | 0/10 [00:00<?, ?it/s]\n",
      "  0%|          | 0/48 [00:00<?, ?it/s]\u001b[A\n",
      "  2%|▏         | 1/48 [00:00<00:44,  1.06it/s]\u001b[A\n",
      " 19%|█▉        | 9/48 [00:01<00:25,  1.51it/s]\u001b[A\n",
      " 38%|███▊      | 18/48 [00:01<00:14,  2.14it/s]\u001b[A\n",
      " 56%|█████▋    | 27/48 [00:01<00:06,  3.02it/s]\u001b[A\n",
      " 75%|███████▌  | 36/48 [00:01<00:02,  4.25it/s]\u001b[A\n",
      " 92%|█████████▏| 44/48 [00:01<00:00,  5.93it/s]\u001b[A\n",
      " 10%|█         | 1/10 [00:01<00:14,  1.57s/it]]\u001b[A\n",
      "  0%|          | 0/48 [00:00<?, ?it/s]\u001b[A\n",
      "  2%|▏         | 1/48 [00:00<00:10,  4.36it/s]\u001b[A\n",
      " 21%|██        | 10/48 [00:00<00:06,  6.09it/s]\u001b[A\n",
      " 40%|███▉      | 19/48 [00:00<00:03,  8.44it/s]\u001b[A\n",
      " 58%|█████▊    | 28/48 [00:00<00:01, 11.55it/s]\u001b[A\n",
      " 77%|███████▋  | 37/48 [00:00<00:00, 15.56it/s]\u001b[A\n",
      " 96%|█████████▌| 46/48 [00:00<00:00, 20.62it/s]\u001b[A\n",
      " 20%|██        | 2/10 [00:02<00:10,  1.36s/it]]\u001b[A\n",
      "  0%|          | 0/48 [00:00<?, ?it/s]\u001b[A\n",
      "  2%|▏         | 1/48 [00:00<00:10,  4.44it/s]\u001b[A\n",
      " 19%|█▉        | 9/48 [00:00<00:06,  6.20it/s]\u001b[A\n",
      " 35%|███▌      | 17/48 [00:00<00:03,  8.56it/s]\u001b[A\n",
      " 52%|█████▏    | 25/48 [00:00<00:01, 11.66it/s]\u001b[A\n",
      " 69%|██████▉   | 33/48 [00:00<00:00, 15.66it/s]\u001b[A\n",
      " 88%|████████▊ | 42/48 [00:00<00:00, 20.71it/s]\u001b[A\n",
      " 30%|███       | 3/10 [00:03<00:08,  1.21s/it]]\u001b[A\n",
      "  0%|          | 0/48 [00:00<?, ?it/s]\u001b[A\n",
      "  2%|▏         | 1/48 [00:00<00:10,  4.44it/s]\u001b[A\n",
      " 19%|█▉        | 9/48 [00:00<00:06,  6.19it/s]\u001b[A\n",
      " 38%|███▊      | 18/48 [00:00<00:03,  8.59it/s]\u001b[A\n",
      " 54%|█████▍    | 26/48 [00:00<00:01, 11.67it/s]\u001b[A\n",
      " 73%|███████▎  | 35/48 [00:00<00:00, 15.71it/s]\u001b[A\n",
      " 92%|█████████▏| 44/48 [00:00<00:00, 20.77it/s]\u001b[A\n",
      " 40%|████      | 4/10 [00:04<00:06,  1.11s/it]]\u001b[A\n",
      "  0%|          | 0/48 [00:00<?, ?it/s]\u001b[A\n",
      "  2%|▏         | 1/48 [00:00<00:10,  4.41it/s]\u001b[A\n",
      " 17%|█▋        | 8/48 [00:00<00:06,  6.13it/s]\u001b[A\n",
      " 35%|███▌      | 17/48 [00:00<00:03,  8.50it/s]\u001b[A\n",
      " 54%|█████▍    | 26/48 [00:00<00:01, 11.60it/s]\u001b[A\n",
      " 69%|██████▉   | 33/48 [00:00<00:00, 15.39it/s]\u001b[A\n",
      " 83%|████████▎ | 40/48 [00:00<00:00, 20.03it/s]\u001b[A\n",
      " 98%|█████████▊| 47/48 [00:00<00:00, 25.32it/s]\u001b[A\n",
      " 50%|█████     | 5/10 [00:05<00:05,  1.06s/it]]\u001b[A\n",
      "  0%|          | 0/48 [00:00<?, ?it/s]\u001b[A\n",
      "  2%|▏         | 1/48 [00:00<00:10,  4.30it/s]\u001b[A\n",
      " 19%|█▉        | 9/48 [00:00<00:06,  6.00it/s]\u001b[A\n",
      " 35%|███▌      | 17/48 [00:00<00:03,  8.30it/s]\u001b[A\n",
      " 52%|█████▏    | 25/48 [00:00<00:02, 11.33it/s]\u001b[A\n",
      " 71%|███████   | 34/48 [00:00<00:00, 15.25it/s]\u001b[A\n",
      " 85%|████████▌ | 41/48 [00:00<00:00, 19.90it/s]\u001b[A\n",
      " 60%|██████    | 6/10 [00:06<00:04,  1.03s/it]]\u001b[A\n",
      "  0%|          | 0/48 [00:00<?, ?it/s]\u001b[A\n",
      "  2%|▏         | 1/48 [00:00<00:11,  4.13it/s]\u001b[A\n",
      " 15%|█▍        | 7/48 [00:00<00:07,  5.72it/s]\u001b[A\n",
      " 33%|███▎      | 16/48 [00:00<00:04,  7.94it/s]\u001b[A\n",
      " 52%|█████▏    | 25/48 [00:00<00:02, 10.89it/s]\u001b[A\n",
      " 71%|███████   | 34/48 [00:00<00:00, 14.73it/s]\u001b[A\n",
      " 90%|████████▉ | 43/48 [00:00<00:00, 19.55it/s]\u001b[A\n",
      " 70%|███████   | 7/10 [00:06<00:02,  1.01it/s]]\u001b[A\n",
      "  0%|          | 0/48 [00:00<?, ?it/s]\u001b[A\n",
      "  2%|▏         | 1/48 [00:00<00:10,  4.38it/s]\u001b[A\n",
      " 19%|█▉        | 9/48 [00:00<00:06,  6.11it/s]\u001b[A\n",
      " 38%|███▊      | 18/48 [00:00<00:03,  8.47it/s]\u001b[A\n",
      " 56%|█████▋    | 27/48 [00:00<00:01, 11.59it/s]\u001b[A\n",
      " 75%|███████▌  | 36/48 [00:00<00:00, 15.61it/s]\u001b[A\n",
      " 94%|█████████▍| 45/48 [00:00<00:00, 20.68it/s]\u001b[A\n",
      " 80%|████████  | 8/10 [00:07<00:01,  1.05it/s]]\u001b[A\n",
      "  0%|          | 0/48 [00:00<?, ?it/s]\u001b[A\n",
      "  2%|▏         | 1/48 [00:00<00:10,  4.42it/s]\u001b[A\n",
      " 21%|██        | 10/48 [00:00<00:06,  6.17it/s]\u001b[A\n",
      " 40%|███▉      | 19/48 [00:00<00:03,  8.55it/s]\u001b[A\n",
      " 58%|█████▊    | 28/48 [00:00<00:01, 11.69it/s]\u001b[A\n",
      " 77%|███████▋  | 37/48 [00:00<00:00, 15.75it/s]\u001b[A\n",
      " 96%|█████████▌| 46/48 [00:00<00:00, 20.81it/s]\u001b[A\n",
      " 90%|█████████ | 9/10 [00:08<00:00,  1.08it/s]]\u001b[A\n",
      "  0%|          | 0/48 [00:00<?, ?it/s]\u001b[A\n",
      "  2%|▏         | 1/48 [00:00<00:11,  4.16it/s]\u001b[A\n",
      " 19%|█▉        | 9/48 [00:00<00:06,  5.82it/s]\u001b[A\n",
      " 38%|███▊      | 18/48 [00:00<00:03,  8.08it/s]\u001b[A\n",
      " 56%|█████▋    | 27/48 [00:00<00:01, 11.07it/s]\u001b[A\n",
      " 75%|███████▌  | 36/48 [00:00<00:00, 14.94it/s]\u001b[A\n",
      " 92%|█████████▏| 44/48 [00:00<00:00, 19.68it/s]\u001b[A\n",
      "100%|██████████| 10/10 [00:09<00:00,  1.10it/s]\u001b[A\n"
     ]
    }
   ],
   "source": [
    "N_EPOCHS = 10\n",
    "history = UsadModel.training(N_EPOCHS,model,Anode_train_dataloader, w_size)"
   ]
  },
  {
   "cell_type": "code",
   "execution_count": 32,
   "metadata": {},
   "outputs": [],
   "source": [
    "results=UsadModel.testing(model,Anode_test_dataloader,w_size)"
   ]
  },
  {
   "cell_type": "code",
   "execution_count": 33,
   "metadata": {},
   "outputs": [],
   "source": [
    "tst_label = np.array(Anode_Test_y)"
   ]
  },
  {
   "cell_type": "code",
   "execution_count": 34,
   "metadata": {},
   "outputs": [],
   "source": [
    "windows_labels=[]\n",
    "for i in range(0, len(tst_label), window_size):\n",
    "    windows_labels.append(list(np.int_(tst_label[i:i+window_size])))"
   ]
  },
  {
   "cell_type": "code",
   "execution_count": 35,
   "metadata": {},
   "outputs": [],
   "source": [
    "y_test = [1.0 if (np.sum(window) > 0) else 0 for window in windows_labels ]"
   ]
  },
  {
   "cell_type": "code",
   "execution_count": 36,
   "metadata": {},
   "outputs": [],
   "source": [
    "y_pred=np.concatenate([torch.stack(results[:-1]).flatten().detach().cpu().numpy(),\n",
    "                              results[-1].flatten().detach().cpu().numpy()])\n"
   ]
  },
  {
   "cell_type": "code",
   "execution_count": 37,
   "metadata": {},
   "outputs": [
    {
     "data": {
      "text/plain": [
       "(1350, 1350)"
      ]
     },
     "execution_count": 37,
     "metadata": {},
     "output_type": "execute_result"
    }
   ],
   "source": [
    "len(y_pred), len(y_test)"
   ]
  },
  {
   "cell_type": "code",
   "execution_count": 38,
   "metadata": {},
   "outputs": [],
   "source": [
    "y_test = np.array(y_test)"
   ]
  },
  {
   "cell_type": "code",
   "execution_count": 39,
   "metadata": {},
   "outputs": [],
   "source": [
    "dist = y_pred\n",
    "attack = y_test\n",
    "\n",
    "scores = dist.copy()"
   ]
  },
  {
   "cell_type": "code",
   "execution_count": 40,
   "metadata": {},
   "outputs": [],
   "source": [
    "def bp_search(score, label, start, end=None, step_num=1, display_freq=1, K=0, verbose=True) -> object:\n",
    "    \"\"\"\n",
    "    Find the best-precision score by searching best `threshold` in [`start`, `end`).\n",
    "    Returns:\n",
    "        list: list for results\n",
    "        float: the `threshold` for best-precision\n",
    "    \"\"\"\n",
    "    if step_num is None or end is None:\n",
    "        end = start\n",
    "        step_num = 1\n",
    "    search_step, search_range, search_lower_bound = step_num, end - start, start\n",
    "    if verbose:\n",
    "        print(\"search range: \", search_lower_bound, search_lower_bound + search_range)\n",
    "    threshold = search_lower_bound\n",
    "    m = [-1., -1., -1.]\n",
    "    m_t = 0.0\n",
    "    for i in range(search_step):\n",
    "        threshold += search_range / float(search_step)\n",
    "        # calc_seq: auroc, average precision score, latency(?)순으로 뱉음\n",
    "        target = calc_seq(score, label, threshold, K=K, calc_latency=True)\n",
    "        if target[1] > m[1]:\n",
    "            m_t = threshold\n",
    "            m = target\n",
    "        if verbose and i % display_freq == 0:\n",
    "            print(\"cur thr: \", threshold, target, m, m_t)\n",
    "    return m, m_t"
   ]
  },
  {
   "cell_type": "code",
   "execution_count": 41,
   "metadata": {},
   "outputs": [],
   "source": [
    "[f1, precision, recall, _, _, _, _, roc_auc, _, _], threshold = bp_search(scores, attack, \n",
    "                                                                  start=np.percentile(scores, 0), \n",
    "                                                                  end=np.percentile(scores, 99), \n",
    "                                                                  step_num=1000, \n",
    "                                                                  display_freq=0, \n",
    "                                                                  K=100, \n",
    "                                                                  verbose=False)"
   ]
  },
  {
   "cell_type": "code",
   "execution_count": 42,
   "metadata": {},
   "outputs": [
    {
     "name": "stdout",
     "output_type": "stream",
     "text": [
      "f1: 0.4509925158029451\n",
      "precision: 0.9999999646643123\n",
      "recall: 0.291152260379092\n",
      "roc_auc: 0.7985961417031375\n",
      "threshold: 1.3185666202354431\n"
     ]
    }
   ],
   "source": [
    "print(f'f1: {f1}')\n",
    "print(f'precision: {precision}')\n",
    "print(f'recall: {recall}')\n",
    "print(f'roc_auc: {roc_auc}')\n",
    "print(f'threshold: {threshold}')"
   ]
  },
  {
   "cell_type": "code",
   "execution_count": 43,
   "metadata": {},
   "outputs": [
    {
     "data": {
      "image/png": "[encoded data removed]",
      "text/plain": [
       "<Figure size 864x288 with 1 Axes>"
      ]
     },
     "metadata": {
      "needs_background": "light"
     },
     "output_type": "display_data"
    }
   ],
   "source": [
    "check_graph(scores, attack, threshold=threshold)\n",
    "plt.ylim(0, 10)\n",
    "plt.show()"
   ]
  },
  {
   "cell_type": "code",
   "execution_count": 44,
   "metadata": {},
   "outputs": [
    {
     "data": {
      "image/png": "[encoded data removed]",
      "text/plain": [
       "<Figure size 864x288 with 1 Axes>"
      ]
     },
     "metadata": {
      "needs_background": "light"
     },
     "output_type": "display_data"
    }
   ],
   "source": [
    "IF_pred = scores >= threshold\n",
    "check_graph(IF_pred, attack)\n",
    "plt.show()"
   ]
  },
  {
   "cell_type": "code",
   "execution_count": 46,
   "metadata": {},
   "outputs": [
    {
     "name": "stdout",
     "output_type": "stream",
     "text": [
      "[{False: 54}, {False: 54}, {False: 54}, {False: 54}, {False: 54}, {False: 54}, {False: 54}, {True: 54}, {False: 17, True: 37}, {True: 8, False: 46}, {True: 54}, {True: 54}, {False: 54}, {False: 50, True: 4}, {False: 54}, {False: 54}, {False: 52, True: 2}, {False: 53, True: 1}, {False: 54}, {False: 49, True: 5}, {False: 44, True: 10}, {True: 54}, {False: 54}, {False: 54}, {False: 54}]\n"
     ]
    }
   ],
   "source": [
    "bead_counter = []\n",
    "pred_tf = [True if (i == 1.0) else False for i in IF_pred]\n",
    "for i in range(len(pred_tf)//54):\n",
    "    bead_counter.append(dict(Counter(pred_tf[i*54: (i+1)*54])))\n",
    "\n",
    "print(bead_counter)"
   ]
  },
  {
   "cell_type": "markdown",
   "metadata": {},
   "source": [
    "# Cathode"
   ]
  },
  {
   "cell_type": "code",
   "execution_count": 41,
   "metadata": {},
   "outputs": [],
   "source": [
    "with open('./data/Cathode_Train.pkl', 'rb') as f:\n",
    "    Cathode_Train = pickle.load(f) "
   ]
  },
  {
   "cell_type": "code",
   "execution_count": 42,
   "metadata": {},
   "outputs": [],
   "source": [
    "with open('./data/Cathode_Test.pkl', 'rb') as f:\n",
    "    Cathode_Test = pickle.load(f)"
   ]
  },
  {
   "cell_type": "code",
   "execution_count": 43,
   "metadata": {},
   "outputs": [
    {
     "data": {
      "text/html": [
       "<div>\n",
       "<style scoped>\n",
       "    .dataframe tbody tr th:only-of-type {\n",
       "        vertical-align: middle;\n",
       "    }\n",
       "\n",
       "    .dataframe tbody tr th {\n",
       "        vertical-align: top;\n",
       "    }\n",
       "\n",
       "    .dataframe thead th {\n",
       "        text-align: right;\n",
       "    }\n",
       "</style>\n",
       "<table border=\"1\" class=\"dataframe\">\n",
       "  <thead>\n",
       "    <tr style=\"text-align: right;\">\n",
       "      <th></th>\n",
       "      <th>LO</th>\n",
       "      <th>BR</th>\n",
       "      <th>NIR</th>\n",
       "      <th>VIS</th>\n",
       "      <th>label</th>\n",
       "      <th>dataset_idx</th>\n",
       "      <th>bead_num</th>\n",
       "      <th>identifier</th>\n",
       "    </tr>\n",
       "  </thead>\n",
       "  <tbody>\n",
       "    <tr>\n",
       "      <th>59477</th>\n",
       "      <td>0.381503</td>\n",
       "      <td>0.009642</td>\n",
       "      <td>0.019061</td>\n",
       "      <td>-0.000435</td>\n",
       "      <td>0</td>\n",
       "      <td>20230330_134146_0__02_Total</td>\n",
       "      <td>0</td>\n",
       "      <td>Normal_20230330_134146_0__02_Total_0</td>\n",
       "    </tr>\n",
       "    <tr>\n",
       "      <th>59478</th>\n",
       "      <td>1.999758</td>\n",
       "      <td>0.002210</td>\n",
       "      <td>0.031365</td>\n",
       "      <td>-0.000435</td>\n",
       "      <td>0</td>\n",
       "      <td>20230330_134146_0__02_Total</td>\n",
       "      <td>0</td>\n",
       "      <td>Normal_20230330_134146_0__02_Total_0</td>\n",
       "    </tr>\n",
       "    <tr>\n",
       "      <th>59479</th>\n",
       "      <td>3.144621</td>\n",
       "      <td>0.276887</td>\n",
       "      <td>0.035575</td>\n",
       "      <td>0.000536</td>\n",
       "      <td>0</td>\n",
       "      <td>20230330_134146_0__02_Total</td>\n",
       "      <td>0</td>\n",
       "      <td>Normal_20230330_134146_0__02_Total_0</td>\n",
       "    </tr>\n",
       "    <tr>\n",
       "      <th>59480</th>\n",
       "      <td>3.683286</td>\n",
       "      <td>0.823011</td>\n",
       "      <td>0.038165</td>\n",
       "      <td>0.002802</td>\n",
       "      <td>0</td>\n",
       "      <td>20230330_134146_0__02_Total</td>\n",
       "      <td>0</td>\n",
       "      <td>Normal_20230330_134146_0__02_Total_0</td>\n",
       "    </tr>\n",
       "    <tr>\n",
       "      <th>59481</th>\n",
       "      <td>3.872642</td>\n",
       "      <td>1.509381</td>\n",
       "      <td>0.038489</td>\n",
       "      <td>0.005391</td>\n",
       "      <td>0</td>\n",
       "      <td>20230330_134146_0__02_Total</td>\n",
       "      <td>0</td>\n",
       "      <td>Normal_20230330_134146_0__02_Total_0</td>\n",
       "    </tr>\n",
       "    <tr>\n",
       "      <th>...</th>\n",
       "      <td>...</td>\n",
       "      <td>...</td>\n",
       "      <td>...</td>\n",
       "      <td>...</td>\n",
       "      <td>...</td>\n",
       "      <td>...</td>\n",
       "      <td>...</td>\n",
       "      <td>...</td>\n",
       "    </tr>\n",
       "    <tr>\n",
       "      <th>80296</th>\n",
       "      <td>4.039380</td>\n",
       "      <td>2.127244</td>\n",
       "      <td>0.097099</td>\n",
       "      <td>0.090834</td>\n",
       "      <td>0</td>\n",
       "      <td>74</td>\n",
       "      <td>53</td>\n",
       "      <td>Normal_74_53</td>\n",
       "    </tr>\n",
       "    <tr>\n",
       "      <th>80297</th>\n",
       "      <td>4.036148</td>\n",
       "      <td>2.092667</td>\n",
       "      <td>0.106490</td>\n",
       "      <td>0.095688</td>\n",
       "      <td>0</td>\n",
       "      <td>74</td>\n",
       "      <td>53</td>\n",
       "      <td>Normal_74_53</td>\n",
       "    </tr>\n",
       "    <tr>\n",
       "      <th>80298</th>\n",
       "      <td>4.020961</td>\n",
       "      <td>2.016727</td>\n",
       "      <td>0.109728</td>\n",
       "      <td>0.102485</td>\n",
       "      <td>0</td>\n",
       "      <td>74</td>\n",
       "      <td>53</td>\n",
       "      <td>Normal_74_53</td>\n",
       "    </tr>\n",
       "    <tr>\n",
       "      <th>80299</th>\n",
       "      <td>4.034856</td>\n",
       "      <td>2.005417</td>\n",
       "      <td>0.111023</td>\n",
       "      <td>0.108958</td>\n",
       "      <td>0</td>\n",
       "      <td>74</td>\n",
       "      <td>53</td>\n",
       "      <td>Normal_74_53</td>\n",
       "    </tr>\n",
       "    <tr>\n",
       "      <th>80300</th>\n",
       "      <td>3.977984</td>\n",
       "      <td>2.012849</td>\n",
       "      <td>0.083175</td>\n",
       "      <td>0.111547</td>\n",
       "      <td>0</td>\n",
       "      <td>74</td>\n",
       "      <td>53</td>\n",
       "      <td>Normal_74_53</td>\n",
       "    </tr>\n",
       "  </tbody>\n",
       "</table>\n",
       "<p>134800 rows × 8 columns</p>\n",
       "</div>"
      ],
      "text/plain": [
       "             LO        BR       NIR       VIS label  \\\n",
       "59477  0.381503  0.009642  0.019061 -0.000435     0   \n",
       "59478  1.999758  0.002210  0.031365 -0.000435     0   \n",
       "59479  3.144621  0.276887  0.035575  0.000536     0   \n",
       "59480  3.683286  0.823011  0.038165  0.002802     0   \n",
       "59481  3.872642  1.509381  0.038489  0.005391     0   \n",
       "...         ...       ...       ...       ...   ...   \n",
       "80296  4.039380  2.127244  0.097099  0.090834     0   \n",
       "80297  4.036148  2.092667  0.106490  0.095688     0   \n",
       "80298  4.020961  2.016727  0.109728  0.102485     0   \n",
       "80299  4.034856  2.005417  0.111023  0.108958     0   \n",
       "80300  3.977984  2.012849  0.083175  0.111547     0   \n",
       "\n",
       "                       dataset_idx bead_num  \\\n",
       "59477  20230330_134146_0__02_Total        0   \n",
       "59478  20230330_134146_0__02_Total        0   \n",
       "59479  20230330_134146_0__02_Total        0   \n",
       "59480  20230330_134146_0__02_Total        0   \n",
       "59481  20230330_134146_0__02_Total        0   \n",
       "...                            ...      ...   \n",
       "80296                           74       53   \n",
       "80297                           74       53   \n",
       "80298                           74       53   \n",
       "80299                           74       53   \n",
       "80300                           74       53   \n",
       "\n",
       "                                 identifier  \n",
       "59477  Normal_20230330_134146_0__02_Total_0  \n",
       "59478  Normal_20230330_134146_0__02_Total_0  \n",
       "59479  Normal_20230330_134146_0__02_Total_0  \n",
       "59480  Normal_20230330_134146_0__02_Total_0  \n",
       "59481  Normal_20230330_134146_0__02_Total_0  \n",
       "...                                     ...  \n",
       "80296                          Normal_74_53  \n",
       "80297                          Normal_74_53  \n",
       "80298                          Normal_74_53  \n",
       "80299                          Normal_74_53  \n",
       "80300                          Normal_74_53  \n",
       "\n",
       "[134800 rows x 8 columns]"
      ]
     },
     "execution_count": 43,
     "metadata": {},
     "output_type": "execute_result"
    }
   ],
   "source": [
    "Cathode_Train"
   ]
  },
  {
   "cell_type": "code",
   "execution_count": 44,
   "metadata": {},
   "outputs": [
    {
     "data": {
      "text/html": [
       "<div>\n",
       "<style scoped>\n",
       "    .dataframe tbody tr th:only-of-type {\n",
       "        vertical-align: middle;\n",
       "    }\n",
       "\n",
       "    .dataframe tbody tr th {\n",
       "        vertical-align: top;\n",
       "    }\n",
       "\n",
       "    .dataframe thead th {\n",
       "        text-align: right;\n",
       "    }\n",
       "</style>\n",
       "<table border=\"1\" class=\"dataframe\">\n",
       "  <thead>\n",
       "    <tr style=\"text-align: right;\">\n",
       "      <th></th>\n",
       "      <th>LO</th>\n",
       "      <th>BR</th>\n",
       "      <th>NIR</th>\n",
       "      <th>VIS</th>\n",
       "      <th>label</th>\n",
       "      <th>dataset_idx</th>\n",
       "      <th>bead_num</th>\n",
       "    </tr>\n",
       "    <tr>\n",
       "      <th>identifier</th>\n",
       "      <th></th>\n",
       "      <th></th>\n",
       "      <th></th>\n",
       "      <th></th>\n",
       "      <th></th>\n",
       "      <th></th>\n",
       "      <th></th>\n",
       "    </tr>\n",
       "  </thead>\n",
       "  <tbody>\n",
       "    <tr>\n",
       "      <th>Normal_20230330_134146_0__02_Total_0</th>\n",
       "      <td>100</td>\n",
       "      <td>100</td>\n",
       "      <td>100</td>\n",
       "      <td>100</td>\n",
       "      <td>100</td>\n",
       "      <td>100</td>\n",
       "      <td>100</td>\n",
       "    </tr>\n",
       "    <tr>\n",
       "      <th>Normal_20230330_134146_0__02_Total_1</th>\n",
       "      <td>100</td>\n",
       "      <td>100</td>\n",
       "      <td>100</td>\n",
       "      <td>100</td>\n",
       "      <td>100</td>\n",
       "      <td>100</td>\n",
       "      <td>100</td>\n",
       "    </tr>\n",
       "    <tr>\n",
       "      <th>Normal_20230330_134146_0__02_Total_10</th>\n",
       "      <td>100</td>\n",
       "      <td>100</td>\n",
       "      <td>100</td>\n",
       "      <td>100</td>\n",
       "      <td>100</td>\n",
       "      <td>100</td>\n",
       "      <td>100</td>\n",
       "    </tr>\n",
       "    <tr>\n",
       "      <th>Normal_20230330_134146_0__02_Total_11</th>\n",
       "      <td>100</td>\n",
       "      <td>100</td>\n",
       "      <td>100</td>\n",
       "      <td>100</td>\n",
       "      <td>100</td>\n",
       "      <td>100</td>\n",
       "      <td>100</td>\n",
       "    </tr>\n",
       "    <tr>\n",
       "      <th>Normal_20230330_134146_0__02_Total_12</th>\n",
       "      <td>100</td>\n",
       "      <td>100</td>\n",
       "      <td>100</td>\n",
       "      <td>100</td>\n",
       "      <td>100</td>\n",
       "      <td>100</td>\n",
       "      <td>100</td>\n",
       "    </tr>\n",
       "    <tr>\n",
       "      <th>...</th>\n",
       "      <td>...</td>\n",
       "      <td>...</td>\n",
       "      <td>...</td>\n",
       "      <td>...</td>\n",
       "      <td>...</td>\n",
       "      <td>...</td>\n",
       "      <td>...</td>\n",
       "    </tr>\n",
       "    <tr>\n",
       "      <th>Normal_74_53</th>\n",
       "      <td>100</td>\n",
       "      <td>100</td>\n",
       "      <td>100</td>\n",
       "      <td>100</td>\n",
       "      <td>100</td>\n",
       "      <td>100</td>\n",
       "      <td>100</td>\n",
       "    </tr>\n",
       "    <tr>\n",
       "      <th>Normal_74_6</th>\n",
       "      <td>100</td>\n",
       "      <td>100</td>\n",
       "      <td>100</td>\n",
       "      <td>100</td>\n",
       "      <td>100</td>\n",
       "      <td>100</td>\n",
       "      <td>100</td>\n",
       "    </tr>\n",
       "    <tr>\n",
       "      <th>Normal_74_7</th>\n",
       "      <td>100</td>\n",
       "      <td>100</td>\n",
       "      <td>100</td>\n",
       "      <td>100</td>\n",
       "      <td>100</td>\n",
       "      <td>100</td>\n",
       "      <td>100</td>\n",
       "    </tr>\n",
       "    <tr>\n",
       "      <th>Normal_74_8</th>\n",
       "      <td>100</td>\n",
       "      <td>100</td>\n",
       "      <td>100</td>\n",
       "      <td>100</td>\n",
       "      <td>100</td>\n",
       "      <td>100</td>\n",
       "      <td>100</td>\n",
       "    </tr>\n",
       "    <tr>\n",
       "      <th>Normal_74_9</th>\n",
       "      <td>100</td>\n",
       "      <td>100</td>\n",
       "      <td>100</td>\n",
       "      <td>100</td>\n",
       "      <td>100</td>\n",
       "      <td>100</td>\n",
       "      <td>100</td>\n",
       "    </tr>\n",
       "  </tbody>\n",
       "</table>\n",
       "<p>1348 rows × 7 columns</p>\n",
       "</div>"
      ],
      "text/plain": [
       "                                        LO   BR  NIR  VIS  label  dataset_idx  \\\n",
       "identifier                                                                      \n",
       "Normal_20230330_134146_0__02_Total_0   100  100  100  100    100          100   \n",
       "Normal_20230330_134146_0__02_Total_1   100  100  100  100    100          100   \n",
       "Normal_20230330_134146_0__02_Total_10  100  100  100  100    100          100   \n",
       "Normal_20230330_134146_0__02_Total_11  100  100  100  100    100          100   \n",
       "Normal_20230330_134146_0__02_Total_12  100  100  100  100    100          100   \n",
       "...                                    ...  ...  ...  ...    ...          ...   \n",
       "Normal_74_53                           100  100  100  100    100          100   \n",
       "Normal_74_6                            100  100  100  100    100          100   \n",
       "Normal_74_7                            100  100  100  100    100          100   \n",
       "Normal_74_8                            100  100  100  100    100          100   \n",
       "Normal_74_9                            100  100  100  100    100          100   \n",
       "\n",
       "                                       bead_num  \n",
       "identifier                                       \n",
       "Normal_20230330_134146_0__02_Total_0        100  \n",
       "Normal_20230330_134146_0__02_Total_1        100  \n",
       "Normal_20230330_134146_0__02_Total_10       100  \n",
       "Normal_20230330_134146_0__02_Total_11       100  \n",
       "Normal_20230330_134146_0__02_Total_12       100  \n",
       "...                                         ...  \n",
       "Normal_74_53                                100  \n",
       "Normal_74_6                                 100  \n",
       "Normal_74_7                                 100  \n",
       "Normal_74_8                                 100  \n",
       "Normal_74_9                                 100  \n",
       "\n",
       "[1348 rows x 7 columns]"
      ]
     },
     "execution_count": 44,
     "metadata": {},
     "output_type": "execute_result"
    }
   ],
   "source": [
    "Cathode_Train.groupby(['identifier']).count()"
   ]
  },
  {
   "cell_type": "code",
   "execution_count": 45,
   "metadata": {},
   "outputs": [
    {
     "data": {
      "text/plain": [
       "array([100])"
      ]
     },
     "execution_count": 45,
     "metadata": {},
     "output_type": "execute_result"
    }
   ],
   "source": [
    "Cathode_Train.groupby(['identifier']).count()['bead_num'].unique()"
   ]
  },
  {
   "cell_type": "code",
   "execution_count": 46,
   "metadata": {},
   "outputs": [
    {
     "data": {
      "text/plain": [
       "array([100])"
      ]
     },
     "execution_count": 46,
     "metadata": {},
     "output_type": "execute_result"
    }
   ],
   "source": [
    "Cathode_Test.groupby(['identifier']).count()['bead_num'].unique()"
   ]
  },
  {
   "cell_type": "code",
   "execution_count": 47,
   "metadata": {},
   "outputs": [
    {
     "data": {
      "text/plain": [
       "array(['20230330_134146_0__02_Total', '48', '49', '50', '51', '52', '53',\n",
       "       '54', '55', '56', '58', '59', '61', '62', '63', '64', '65', '67',\n",
       "       '68', '69', '70', '71', '72', '73', '74'], dtype=object)"
      ]
     },
     "execution_count": 47,
     "metadata": {},
     "output_type": "execute_result"
    }
   ],
   "source": [
    "Cathode_Train['dataset_idx'].unique()"
   ]
  },
  {
   "cell_type": "code",
   "execution_count": 48,
   "metadata": {},
   "outputs": [
    {
     "data": {
      "text/plain": [
       "59477    Normal_20230330_134146_0__02_Total_0\n",
       "59478    Normal_20230330_134146_0__02_Total_0\n",
       "59479    Normal_20230330_134146_0__02_Total_0\n",
       "59480    Normal_20230330_134146_0__02_Total_0\n",
       "59481    Normal_20230330_134146_0__02_Total_0\n",
       "                         ...                 \n",
       "80296                            Normal_74_53\n",
       "80297                            Normal_74_53\n",
       "80298                            Normal_74_53\n",
       "80299                            Normal_74_53\n",
       "80300                            Normal_74_53\n",
       "Name: identifier, Length: 134800, dtype: object"
      ]
     },
     "execution_count": 48,
     "metadata": {},
     "output_type": "execute_result"
    }
   ],
   "source": [
    "Cathode_Train['identifier']"
   ]
  },
  {
   "cell_type": "code",
   "execution_count": 49,
   "metadata": {
    "ExecuteTime": {
     "end_time": "2023-05-08T07:33:17.375826Z",
     "start_time": "2023-05-08T07:33:17.302293Z"
    }
   },
   "outputs": [],
   "source": [
    "Cathode_Train_y = Cathode_Train['label'].astype(float)\n",
    "Cathode_Train_X = Cathode_Train.drop(['label', 'dataset_idx', 'bead_num', 'identifier'], axis=1)\n",
    "Cathode_Test_y = Cathode_Test['label'].astype(float)\n",
    "Cathode_Test_X = Cathode_Test.drop(['label', 'dataset_idx', 'bead_num', 'identifier'], axis=1)"
   ]
  },
  {
   "cell_type": "code",
   "execution_count": 50,
   "metadata": {},
   "outputs": [
    {
     "data": {
      "text/html": [
       "<div>\n",
       "<style scoped>\n",
       "    .dataframe tbody tr th:only-of-type {\n",
       "        vertical-align: middle;\n",
       "    }\n",
       "\n",
       "    .dataframe tbody tr th {\n",
       "        vertical-align: top;\n",
       "    }\n",
       "\n",
       "    .dataframe thead th {\n",
       "        text-align: right;\n",
       "    }\n",
       "</style>\n",
       "<table border=\"1\" class=\"dataframe\">\n",
       "  <thead>\n",
       "    <tr style=\"text-align: right;\">\n",
       "      <th></th>\n",
       "      <th>LO</th>\n",
       "      <th>BR</th>\n",
       "      <th>NIR</th>\n",
       "      <th>VIS</th>\n",
       "    </tr>\n",
       "  </thead>\n",
       "  <tbody>\n",
       "    <tr>\n",
       "      <th>59477</th>\n",
       "      <td>0.381503</td>\n",
       "      <td>0.009642</td>\n",
       "      <td>0.019061</td>\n",
       "      <td>-0.000435</td>\n",
       "    </tr>\n",
       "    <tr>\n",
       "      <th>59478</th>\n",
       "      <td>1.999758</td>\n",
       "      <td>0.002210</td>\n",
       "      <td>0.031365</td>\n",
       "      <td>-0.000435</td>\n",
       "    </tr>\n",
       "    <tr>\n",
       "      <th>59479</th>\n",
       "      <td>3.144621</td>\n",
       "      <td>0.276887</td>\n",
       "      <td>0.035575</td>\n",
       "      <td>0.000536</td>\n",
       "    </tr>\n",
       "    <tr>\n",
       "      <th>59480</th>\n",
       "      <td>3.683286</td>\n",
       "      <td>0.823011</td>\n",
       "      <td>0.038165</td>\n",
       "      <td>0.002802</td>\n",
       "    </tr>\n",
       "    <tr>\n",
       "      <th>59481</th>\n",
       "      <td>3.872642</td>\n",
       "      <td>1.509381</td>\n",
       "      <td>0.038489</td>\n",
       "      <td>0.005391</td>\n",
       "    </tr>\n",
       "    <tr>\n",
       "      <th>...</th>\n",
       "      <td>...</td>\n",
       "      <td>...</td>\n",
       "      <td>...</td>\n",
       "      <td>...</td>\n",
       "    </tr>\n",
       "    <tr>\n",
       "      <th>80296</th>\n",
       "      <td>4.039380</td>\n",
       "      <td>2.127244</td>\n",
       "      <td>0.097099</td>\n",
       "      <td>0.090834</td>\n",
       "    </tr>\n",
       "    <tr>\n",
       "      <th>80297</th>\n",
       "      <td>4.036148</td>\n",
       "      <td>2.092667</td>\n",
       "      <td>0.106490</td>\n",
       "      <td>0.095688</td>\n",
       "    </tr>\n",
       "    <tr>\n",
       "      <th>80298</th>\n",
       "      <td>4.020961</td>\n",
       "      <td>2.016727</td>\n",
       "      <td>0.109728</td>\n",
       "      <td>0.102485</td>\n",
       "    </tr>\n",
       "    <tr>\n",
       "      <th>80299</th>\n",
       "      <td>4.034856</td>\n",
       "      <td>2.005417</td>\n",
       "      <td>0.111023</td>\n",
       "      <td>0.108958</td>\n",
       "    </tr>\n",
       "    <tr>\n",
       "      <th>80300</th>\n",
       "      <td>3.977984</td>\n",
       "      <td>2.012849</td>\n",
       "      <td>0.083175</td>\n",
       "      <td>0.111547</td>\n",
       "    </tr>\n",
       "  </tbody>\n",
       "</table>\n",
       "<p>134800 rows × 4 columns</p>\n",
       "</div>"
      ],
      "text/plain": [
       "             LO        BR       NIR       VIS\n",
       "59477  0.381503  0.009642  0.019061 -0.000435\n",
       "59478  1.999758  0.002210  0.031365 -0.000435\n",
       "59479  3.144621  0.276887  0.035575  0.000536\n",
       "59480  3.683286  0.823011  0.038165  0.002802\n",
       "59481  3.872642  1.509381  0.038489  0.005391\n",
       "...         ...       ...       ...       ...\n",
       "80296  4.039380  2.127244  0.097099  0.090834\n",
       "80297  4.036148  2.092667  0.106490  0.095688\n",
       "80298  4.020961  2.016727  0.109728  0.102485\n",
       "80299  4.034856  2.005417  0.111023  0.108958\n",
       "80300  3.977984  2.012849  0.083175  0.111547\n",
       "\n",
       "[134800 rows x 4 columns]"
      ]
     },
     "execution_count": 50,
     "metadata": {},
     "output_type": "execute_result"
    }
   ],
   "source": [
    "Cathode_Train_X"
   ]
  },
  {
   "cell_type": "code",
   "execution_count": 51,
   "metadata": {},
   "outputs": [],
   "source": [
    "import sys\n",
    "sys.path.append(\"./TSAD\")"
   ]
  },
  {
   "cell_type": "code",
   "execution_count": 52,
   "metadata": {},
   "outputs": [],
   "source": [
    "from tsad.data import BuildDataset\n",
    "from tsad.models import BeatGAN_MOCAP\n",
    "from tsad.models import UsadModel\n",
    "from tsad.metrics import bf_search, get_best_f1"
   ]
  },
  {
   "cell_type": "code",
   "execution_count": 53,
   "metadata": {},
   "outputs": [],
   "source": [
    "window_size = 100\n",
    "slide_size = 100 # USAD의 경우 value와 window가 대응이 되어야 하기 때문에 slide size = 1\n",
    "model_type = 'reconstruction'\n",
    "# valid_split_rate = 0.8\n",
    "device = torch.device('cuda:{}'.format(0))\n",
    "\n",
    "loader_params = {\n",
    "    'batch_size': 32,\n",
    "    'shuffle': False,\n",
    "    'num_workers': 8,\n",
    "    'pin_memory': False\n",
    "}"
   ]
  },
  {
   "cell_type": "code",
   "execution_count": 54,
   "metadata": {},
   "outputs": [],
   "source": [
    "scaler = MinMaxScaler()\n",
    "Cathode_Train_X_scaled = pd.DataFrame(scaler.fit_transform(Cathode_Train_X))\n",
    "Cathode_Test_X_scaled = pd.DataFrame(scaler.transform(Cathode_Test_X))"
   ]
  },
  {
   "cell_type": "code",
   "execution_count": 55,
   "metadata": {},
   "outputs": [
    {
     "name": "stdout",
     "output_type": "stream",
     "text": [
      "# of valid windows: 1348\n",
      "# of valid windows: 1238\n"
     ]
    }
   ],
   "source": [
    "Cathode_Train_dataset = BuildDataset(Cathode_Train_X_scaled, Cathode_Train_X_scaled.index.to_numpy(), window_size, slide_size,\n",
    "                            attacks=None, model_type=model_type)\n",
    "\n",
    "Cathode_Test_dataset = BuildDataset(Cathode_Test_X_scaled, Cathode_Test_X_scaled.index.to_numpy(), window_size, slide_size,\n",
    "                            attacks=np.array(Cathode_Test_y), model_type=model_type)"
   ]
  },
  {
   "cell_type": "code",
   "execution_count": 56,
   "metadata": {},
   "outputs": [],
   "source": [
    "# w_size, z_size 정의\n",
    "\n",
    "hidden_size = 100\n",
    "# w_size = window_size*len(Cathode_Train_X_scaled[0]) # window size * feature 수\n",
    "w_size = window_size*4 # window size * feature 수\n",
    "z_size = window_size * hidden_size"
   ]
  },
  {
   "cell_type": "code",
   "execution_count": 57,
   "metadata": {},
   "outputs": [],
   "source": [
    "import torch.utils.data as data_utils\n",
    "\n",
    "Cathode_Train_dataloader = torch.utils.data.DataLoader(Cathode_Train_dataset,\n",
    "                                                batch_size=loader_params['batch_size'],\n",
    "                                                shuffle=loader_params['shuffle'],\n",
    "                                                num_workers=loader_params['num_workers'],\n",
    "                                                pin_memory=loader_params['pin_memory'],\n",
    "                                                drop_last=False)\n",
    "\n",
    "\n",
    "Cathode_Test_dataloader = torch.utils.data.DataLoader(Cathode_Test_dataset,\n",
    "                                                batch_size=loader_params['batch_size'],\n",
    "                                                shuffle=loader_params['shuffle'],\n",
    "                                                num_workers=loader_params['num_workers'],\n",
    "                                                pin_memory=loader_params['pin_memory'],\n",
    "                                                drop_last=False)"
   ]
  },
  {
   "cell_type": "code",
   "execution_count": 58,
   "metadata": {},
   "outputs": [],
   "source": [
    "model = UsadModel(w_size, z_size)\n",
    "model = UsadModel.to_device(model,device)"
   ]
  },
  {
   "cell_type": "code",
   "execution_count": 59,
   "metadata": {
    "collapsed": true,
    "jupyter": {
     "outputs_hidden": true
    }
   },
   "outputs": [
    {
     "name": "stderr",
     "output_type": "stream",
     "text": [
      "  0%|          | 0/10 [00:00<?, ?it/s]\n",
      "  0%|          | 0/43 [00:00<?, ?it/s]\u001b[A\n",
      "  2%|▏         | 1/43 [00:00<00:10,  4.17it/s]\u001b[A\n",
      " 21%|██        | 9/43 [00:00<00:05,  5.82it/s]\u001b[A\n",
      " 42%|████▏     | 18/43 [00:00<00:03,  8.07it/s]\u001b[A\n",
      " 63%|██████▎   | 27/43 [00:00<00:01, 11.07it/s]\u001b[A\n",
      " 84%|████████▎ | 36/43 [00:00<00:00, 14.96it/s]\u001b[A\n",
      " 10%|█         | 1/10 [00:00<00:07,  1.21it/s]]\u001b[A\n",
      "  0%|          | 0/43 [00:00<?, ?it/s]\u001b[A\n",
      "  2%|▏         | 1/43 [00:00<00:10,  4.15it/s]\u001b[A\n",
      " 21%|██        | 9/43 [00:00<00:05,  5.79it/s]\u001b[A\n",
      " 42%|████▏     | 18/43 [00:00<00:03,  8.04it/s]\u001b[A\n",
      " 63%|██████▎   | 27/43 [00:00<00:01, 11.02it/s]\u001b[A\n",
      " 84%|████████▎ | 36/43 [00:00<00:00, 14.90it/s]\u001b[A\n",
      " 20%|██        | 2/10 [00:01<00:06,  1.21it/s]]\u001b[A\n",
      "  0%|          | 0/43 [00:00<?, ?it/s]\u001b[A\n",
      "  2%|▏         | 1/43 [00:00<00:09,  4.28it/s]\u001b[A\n",
      " 21%|██        | 9/43 [00:00<00:05,  5.97it/s]\u001b[A\n",
      " 42%|████▏     | 18/43 [00:00<00:03,  8.28it/s]\u001b[A\n",
      " 63%|██████▎   | 27/43 [00:00<00:01, 11.33it/s]\u001b[A\n",
      " 84%|████████▎ | 36/43 [00:00<00:00, 15.29it/s]\u001b[A\n",
      " 30%|███       | 3/10 [00:02<00:05,  1.22it/s]]\u001b[A\n",
      "  0%|          | 0/43 [00:00<?, ?it/s]\u001b[A\n",
      "  2%|▏         | 1/43 [00:00<00:10,  4.15it/s]\u001b[A\n",
      " 21%|██        | 9/43 [00:00<00:05,  5.80it/s]\u001b[A\n",
      " 42%|████▏     | 18/43 [00:00<00:03,  8.05it/s]\u001b[A\n",
      " 63%|██████▎   | 27/43 [00:00<00:01, 11.04it/s]\u001b[A\n",
      " 81%|████████▏ | 35/43 [00:00<00:00, 14.85it/s]\u001b[A\n",
      " 40%|████      | 4/10 [00:03<00:04,  1.21it/s]]\u001b[A\n",
      "  0%|          | 0/43 [00:00<?, ?it/s]\u001b[A\n",
      "  2%|▏         | 1/43 [00:00<00:10,  4.13it/s]\u001b[A\n",
      " 21%|██        | 9/43 [00:00<00:05,  5.77it/s]\u001b[A\n",
      " 42%|████▏     | 18/43 [00:00<00:03,  8.01it/s]\u001b[A\n",
      " 63%|██████▎   | 27/43 [00:00<00:01, 10.98it/s]\u001b[A\n",
      " 81%|████████▏ | 35/43 [00:00<00:00, 14.74it/s]\u001b[A\n",
      " 50%|█████     | 5/10 [00:04<00:04,  1.21it/s]]\u001b[A\n",
      "  0%|          | 0/43 [00:00<?, ?it/s]\u001b[A\n",
      "  2%|▏         | 1/43 [00:00<00:09,  4.21it/s]\u001b[A\n",
      " 21%|██        | 9/43 [00:00<00:05,  5.88it/s]\u001b[A\n",
      " 37%|███▋      | 16/43 [00:00<00:03,  8.10it/s]\u001b[A\n",
      " 56%|█████▌    | 24/43 [00:00<00:01, 11.05it/s]\u001b[A\n",
      " 74%|███████▍  | 32/43 [00:00<00:00, 14.79it/s]\u001b[A\n",
      " 91%|█████████ | 39/43 [00:00<00:00, 19.22it/s]\u001b[A\n",
      " 60%|██████    | 6/10 [00:05<00:03,  1.17it/s]]\u001b[A\n",
      "  0%|          | 0/43 [00:00<?, ?it/s]\u001b[A\n",
      "  2%|▏         | 1/43 [00:00<00:11,  3.65it/s]\u001b[A\n",
      " 19%|█▊        | 8/43 [00:00<00:06,  5.09it/s]\u001b[A\n",
      " 35%|███▍      | 15/43 [00:00<00:03,  7.03it/s]\u001b[A\n",
      " 53%|█████▎    | 23/43 [00:00<00:02,  9.64it/s]\u001b[A\n",
      " 72%|███████▏  | 31/43 [00:00<00:00, 13.05it/s]\u001b[A\n",
      " 86%|████████▌ | 37/43 [00:00<00:00, 17.00it/s]\u001b[A\n",
      " 70%|███████   | 7/10 [00:05<00:02,  1.13it/s]]\u001b[A\n",
      "  0%|          | 0/43 [00:00<?, ?it/s]\u001b[A\n",
      "  2%|▏         | 1/43 [00:00<00:09,  4.32it/s]\u001b[A\n",
      " 21%|██        | 9/43 [00:00<00:05,  6.02it/s]\u001b[A\n",
      " 42%|████▏     | 18/43 [00:00<00:02,  8.34it/s]\u001b[A\n",
      " 63%|██████▎   | 27/43 [00:00<00:01, 11.43it/s]\u001b[A\n",
      " 84%|████████▎ | 36/43 [00:00<00:00, 15.42it/s]\u001b[A\n",
      " 80%|████████  | 8/10 [00:06<00:01,  1.16it/s]]\u001b[A\n",
      "  0%|          | 0/43 [00:00<?, ?it/s]\u001b[A\n",
      "  2%|▏         | 1/43 [00:00<00:10,  4.06it/s]\u001b[A\n",
      " 23%|██▎       | 10/43 [00:00<00:05,  5.69it/s]\u001b[A\n",
      " 44%|████▍     | 19/43 [00:00<00:03,  7.89it/s]\u001b[A\n",
      " 63%|██████▎   | 27/43 [00:00<00:01, 10.77it/s]\u001b[A\n",
      " 79%|███████▉  | 34/43 [00:00<00:00, 14.42it/s]\u001b[A\n",
      " 95%|█████████▌| 41/43 [00:00<00:00, 18.92it/s]\u001b[A\n",
      " 90%|█████████ | 9/10 [00:07<00:00,  1.16it/s]]\u001b[A\n",
      "  0%|          | 0/43 [00:00<?, ?it/s]\u001b[A\n",
      "  2%|▏         | 1/43 [00:00<00:09,  4.21it/s]\u001b[A\n",
      " 21%|██        | 9/43 [00:00<00:05,  5.87it/s]\u001b[A\n",
      " 42%|████▏     | 18/43 [00:00<00:03,  8.15it/s]\u001b[A\n",
      " 63%|██████▎   | 27/43 [00:00<00:01, 11.16it/s]\u001b[A\n",
      " 84%|████████▎ | 36/43 [00:00<00:00, 15.07it/s]\u001b[A\n",
      "100%|██████████| 10/10 [00:08<00:00,  1.18it/s]\u001b[A\n"
     ]
    }
   ],
   "source": [
    "N_EPOCHS = 10\n",
    "history = UsadModel.training(N_EPOCHS,model,Cathode_Train_dataloader, w_size)"
   ]
  },
  {
   "cell_type": "code",
   "execution_count": 60,
   "metadata": {},
   "outputs": [],
   "source": [
    "results=UsadModel.testing(model,Cathode_Test_dataloader,w_size)"
   ]
  },
  {
   "cell_type": "code",
   "execution_count": 61,
   "metadata": {},
   "outputs": [],
   "source": [
    "tst_label = np.array(Cathode_Test_y)"
   ]
  },
  {
   "cell_type": "code",
   "execution_count": 62,
   "metadata": {},
   "outputs": [],
   "source": [
    "windows_labels=[]\n",
    "for i in range(0, len(tst_label), window_size):\n",
    "    windows_labels.append(list(np.int_(tst_label[i:i+window_size])))"
   ]
  },
  {
   "cell_type": "code",
   "execution_count": 63,
   "metadata": {},
   "outputs": [],
   "source": [
    "y_test = [1.0 if (np.sum(window) > 0) else 0 for window in windows_labels ]"
   ]
  },
  {
   "cell_type": "code",
   "execution_count": 64,
   "metadata": {},
   "outputs": [],
   "source": [
    "y_pred=np.concatenate([torch.stack(results[:-1]).flatten().detach().cpu().numpy(),\n",
    "                              results[-1].flatten().detach().cpu().numpy()])\n"
   ]
  },
  {
   "cell_type": "code",
   "execution_count": 65,
   "metadata": {},
   "outputs": [
    {
     "data": {
      "text/plain": [
       "(1238, 1238)"
      ]
     },
     "execution_count": 65,
     "metadata": {},
     "output_type": "execute_result"
    }
   ],
   "source": [
    "len(y_pred), len(y_test)"
   ]
  },
  {
   "cell_type": "code",
   "execution_count": 66,
   "metadata": {},
   "outputs": [],
   "source": [
    "y_test = np.array(y_test)"
   ]
  },
  {
   "cell_type": "code",
   "execution_count": 67,
   "metadata": {},
   "outputs": [],
   "source": [
    "dist = y_pred\n",
    "attack = y_test\n",
    "history = dict()\n",
    "\n",
    "scores = dist.copy()"
   ]
  },
  {
   "cell_type": "code",
   "execution_count": 69,
   "metadata": {},
   "outputs": [],
   "source": [
    "[f1, precision, recall, _, _, _, _, roc_auc, _, _], threshold = bp_search(scores, attack,\n",
    "                                                                            start=np.percentile(scores, 0),\n",
    "                                                                            end=np.percentile(scores, 95),\n",
    "                                                                            step_num=1000,\n",
    "                                                                            K=100,\n",
    "                                                                            verbose=False)"
   ]
  },
  {
   "cell_type": "code",
   "execution_count": 70,
   "metadata": {},
   "outputs": [
    {
     "name": "stdout",
     "output_type": "stream",
     "text": [
      "f1: 0.4664393686368987\n",
      "precision: 0.9999999640287783\n",
      "recall: 0.3041575459063726\n",
      "roc_auc: 0.816023718831888\n",
      "threshold: 0.01742709827329963\n"
     ]
    }
   ],
   "source": [
    "print(f'f1: {f1}')\n",
    "print(f'precision: {precision}')\n",
    "print(f'recall: {recall}')\n",
    "print(f'roc_auc: {roc_auc}')\n",
    "print(f'threshold: {threshold}')"
   ]
  },
  {
   "cell_type": "code",
   "execution_count": 71,
   "metadata": {},
   "outputs": [
    {
     "data": {
      "image/png": "[encoded data removed]",
      "text/plain": [
       "<Figure size 864x288 with 1 Axes>"
      ]
     },
     "metadata": {
      "needs_background": "light"
     },
     "output_type": "display_data"
    }
   ],
   "source": [
    "check_graph(scores, attack, threshold=threshold)\n",
    "plt.show()"
   ]
  },
  {
   "cell_type": "code",
   "execution_count": 72,
   "metadata": {},
   "outputs": [
    {
     "data": {
      "image/png": "[encoded data removed]",
      "text/plain": [
       "<Figure size 864x288 with 1 Axes>"
      ]
     },
     "metadata": {
      "needs_background": "light"
     },
     "output_type": "display_data"
    }
   ],
   "source": [
    "IF_pred = scores >= threshold\n",
    "check_graph(IF_pred, attack)\n",
    "plt.show()"
   ]
  },
  {
   "cell_type": "code",
   "execution_count": 73,
   "metadata": {},
   "outputs": [
    {
     "name": "stdout",
     "output_type": "stream",
     "text": [
      "[{False: 54}, {False: 54}, {False: 54}, {False: 54}, {False: 54}, {False: 54}, {False: 19, True: 35}, {False: 47, True: 7}, {False: 53, True: 1}, {True: 11, False: 43}, {False: 18, True: 36}, {True: 54}, {True: 14, False: 40}, {True: 47, False: 7}, {False: 54}, {False: 54}, {False: 52, True: 2}, {False: 49, True: 5}, {True: 50, False: 4}, {False: 51, True: 3}, {False: 50, True: 4}, {False: 47, True: 7}]\n"
     ]
    }
   ],
   "source": [
    "bead_counter = []\n",
    "pred_tf = [True if (i == 1.0) else False for i in IF_pred]\n",
    "for i in range(len(pred_tf)//54):\n",
    "    bead_counter.append(dict(Counter(pred_tf[i*54: (i+1)*54])))\n",
    "\n",
    "print(bead_counter)"
   ]
  },
  {
   "cell_type": "markdown",
   "metadata": {},
   "source": [
    "The End"
   ]
  },
  {
   "cell_type": "code",
   "execution_count": null,
   "metadata": {},
   "outputs": [],
   "source": []
  }
 ],
 "metadata": {
  "hide_input": false,
  "kernelspec": {
   "display_name": "Python 3",
   "language": "python",
   "name": "python3"
  },
  "language_info": {
   "codemirror_mode": {
    "name": "ipython",
    "version": 3
   },
   "file_extension": ".py",
   "mimetype": "text/x-python",
   "name": "python",
   "nbconvert_exporter": "python",
   "pygments_lexer": "ipython3",
   "version": "3.6.10"
  },
  "latex_envs": {
   "LaTeX_envs_menu_present": true,
   "autoclose": false,
   "autocomplete": true,
   "bibliofile": "biblio.bib",
   "cite_by": "apalike",
   "current_citInitial": 1,
   "eqLabelWithNumbers": true,
   "eqNumInitial": 1,
   "hotkeys": {
    "equation": "Ctrl-E",
    "itemize": "Ctrl-I"
   },
   "labels_anchors": false,
   "latex_user_defs": false,
   "report_style_numbering": false,
   "user_envs_cfg": false
  },
  "nbTranslate": {
   "displayLangs": [
    "ko",
    "en"
   ],
   "hotkey": "alt-t",
   "langInMainMenu": true,
   "sourceLang": "en",
   "targetLang": "ko",
   "useGoogleTranslate": true
  },
  "toc": {
   "base_numbering": 1,
   "nav_menu": {},
   "number_sections": true,
   "sideBar": true,
   "skip_h1_title": false,
   "title_cell": "Table of Contents",
   "title_sidebar": "Contents",
   "toc_cell": false,
   "toc_position": {
    "height": "calc(100% - 180px)",
    "left": "10px",
    "top": "150px",
    "width": "384px"
   },
   "toc_section_display": true,
   "toc_window_display": true
  },
  "varInspector": {
   "cols": {
    "lenName": 16,
    "lenType": 16,
    "lenVar": 40
   },
   "kernels_config": {
    "python": {
     "delete_cmd_postfix": "",
     "delete_cmd_prefix": "del ",
     "library": "var_list.py",
     "varRefreshCmd": "print(var_dic_list())"
    },
    "r": {
     "delete_cmd_postfix": ") ",
     "delete_cmd_prefix": "rm(",
     "library": "var_list.r",
     "varRefreshCmd": "cat(var_dic_list()) "
    }
   },
   "types_to_exclude": [
    "module",
    "function",
    "builtin_function_or_method",
    "instance",
    "_Feature"
   ],
   "window_display": false
  }
 },
 "nbformat": 4,
 "nbformat_minor": 5
}
